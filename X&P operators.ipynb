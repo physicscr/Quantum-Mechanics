{
 "cells": [
  {
   "cell_type": "markdown",
   "id": "d3e171a6-6b9f-40b3-a65c-1039f00b9edf",
   "metadata": {},
   "source": [
    "Primero importamos ``SymPy``, que es una librería de Python para álgebra simbólica y ``NumPy``, que es usada para cálculos numéricos y con esa crearemos la matriz diagonal."
   ]
  },
  {
   "cell_type": "code",
   "execution_count": 2,
   "id": "a091336e-8a41-463e-be14-68ae86b7618c",
   "metadata": {},
   "outputs": [],
   "source": [
    "import sympy as sp\n",
    "import numpy as np"
   ]
  },
  {
   "cell_type": "markdown",
   "id": "5dc5b11f-58d3-49ca-9aa7-c1c44e4dac49",
   "metadata": {},
   "source": [
    "Además de eso, definimos las constantes que vamos a utilizar en el cálculo simbólico, que son necesarios para definir los operadores $\\hat{X}$ y $\\hat{P}$."
   ]
  },
  {
   "cell_type": "code",
   "execution_count": 4,
   "id": "2474fe49-8eb8-428c-9adc-936c7be86a10",
   "metadata": {},
   "outputs": [],
   "source": [
    "h = sp.Symbol(\"ħ\")\n",
    "m = sp.Symbol(\"m\")\n",
    "w = sp.Symbol(\"ω\")"
   ]
  },
  {
   "cell_type": "markdown",
   "id": "85349d24-e992-40f8-afe4-9ed78dc35733",
   "metadata": {},
   "source": [
    "Construimos el operador de destrucción $a$ de ``10x10``. Creamos entonces una lista de raíces cuadradas simbólicas de los números del 1 al 9. Esta matriz está entonces creada a partir de la lista anterior en la diagonal justo por encima de la diagonal principal (offset = 1). El resultado es una matriz ``NumPy`` de tamaño ``10×10`` (porque hay 9 elementos y la diagonal está una fila encima de la principal). Para obtener el operador de creación $a^{\\dagger}$, simplemente calculamos la adjunto de la matriz $a$."
   ]
  },
  {
   "cell_type": "code",
   "execution_count": 6,
   "id": "5f7dbf57-9566-408d-8a93-67c791229f42",
   "metadata": {},
   "outputs": [],
   "source": [
    "a = sp.Matrix(np.diag([sp.sqrt(i) for i in range(1,10) ], 1))\n",
    "a_dagger = sp.adjoint(a)"
   ]
  },
  {
   "cell_type": "markdown",
   "id": "effacf7d-9bd0-495c-aba6-fd91ee408ecf",
   "metadata": {},
   "source": [
    "De esta manera entonces obtenemos que los operador de destrucción y creacion en su representación matricial se ven de la siguiente manera:\n",
    "\\begin{equation}\n",
    "a =\n",
    "\\begin{pmatrix}\n",
    "0 & \\sqrt{1} & 0 & 0 & 0 & 0 & 0 & 0 & 0 & 0 \\\\\n",
    "0 & 0 & \\sqrt{2} & 0 & 0 & 0 & 0 & 0 & 0 & 0 \\\\\n",
    "0 & 0 & 0 & \\sqrt{3} & 0 & 0 & 0 & 0 & 0 & 0 \\\\\n",
    "0 & 0 & 0 & 0 & \\sqrt{4} & 0 & 0 & 0 & 0 & 0 \\\\\n",
    "0 & 0 & 0 & 0 & 0 & \\sqrt{5} & 0 & 0 & 0 & 0 \\\\\n",
    "0 & 0 & 0 & 0 & 0 & 0 & \\sqrt{6} & 0 & 0 & 0 \\\\\n",
    "0 & 0 & 0 & 0 & 0 & 0 & 0 & \\sqrt{7} & 0 & 0 \\\\\n",
    "0 & 0 & 0 & 0 & 0 & 0 & 0 & 0 & \\sqrt{8} & 0 \\\\\n",
    "0 & 0 & 0 & 0 & 0 & 0 & 0 & 0 & 0 & \\sqrt{9} \\\\\n",
    "0 & 0 & 0 & 0 & 0 & 0 & 0 & 0 & 0 & 0 \\\\\n",
    "\\end{pmatrix}\n",
    "\\quad \\text{\\&} \\quad \n",
    "a^\\dagger =\n",
    "\\begin{pmatrix}\n",
    "0 & 0 & 0 & 0 & 0 & 0 & 0 & 0 & 0 & 0 \\\\\n",
    "\\sqrt{1} & 0 & 0 & 0 & 0 & 0 & 0 & 0 & 0 & 0 \\\\\n",
    "0 & \\sqrt{2} & 0 & 0 & 0 & 0 & 0 & 0 & 0 & 0 \\\\\n",
    "0 & 0 & \\sqrt{3} & 0 & 0 & 0 & 0 & 0 & 0 & 0 \\\\\n",
    "0 & 0 & 0 & \\sqrt{4} & 0 & 0 & 0 & 0 & 0 & 0 \\\\\n",
    "0 & 0 & 0 & 0 & \\sqrt{5} & 0 & 0 & 0 & 0 & 0 \\\\\n",
    "0 & 0 & 0 & 0 & 0 & \\sqrt{6} & 0 & 0 & 0 & 0 \\\\\n",
    "0 & 0 & 0 & 0 & 0 & 0 & \\sqrt{7} & 0 & 0 & 0 \\\\\n",
    "0 & 0 & 0 & 0 & 0 & 0 & 0 & \\sqrt{8} & 0 & 0 \\\\\n",
    "0 & 0 & 0 & 0 & 0 & 0 & 0 & 0 & \\sqrt{9} & 0 \\\\\n",
    "\\end{pmatrix}\n",
    "\\end{equation}\n",
    "\n",
    "Definimos entonces el operador $X$. Tenemos que el operador adimensional $\\hat{X}$ es $\\hat{X}=\\sqrt{\\dfrac{m\\omega}{\\hbar}}X$ y además de eso sabemos que $\\hat{X}=\\dfrac{1}{\\sqrt{2}}(a^{\\dagger}+a)$.\n",
    "\n",
    "Realizando entonces un simple despeje llegamos a que \n",
    "\\begin{equation}\n",
    "\\boxed{X=\\sqrt{\\dfrac{\\hbar}{2m\\omega}}(a^{\\dagger}+a)}\n",
    "\\end{equation}"
   ]
  },
  {
   "cell_type": "code",
   "execution_count": 8,
   "id": "24d91cc9-c371-4976-9a76-6cafcff62b81",
   "metadata": {},
   "outputs": [],
   "source": [
    "X = sp.sqrt( (h) / (m*w) ) * (1/sp.sqrt(2)) * (a_dagger + a)                                              "
   ]
  },
  {
   "cell_type": "markdown",
   "id": "ead8074e-2a68-46e4-a948-689d19da7fc7",
   "metadata": {},
   "source": [
    "Ahora solo imprimimos los $X^i$ con ``i = 1,2,3,4,5``."
   ]
  },
  {
   "cell_type": "code",
   "execution_count": 10,
   "id": "b2e99f6b-10f3-49bb-a877-e0be4563b975",
   "metadata": {},
   "outputs": [
    {
     "data": {
      "text/latex": [
       "$\\displaystyle \\left[\\begin{matrix}0 & \\frac{\\sqrt{2} \\sqrt{\\frac{ħ}{m ω}}}{2} & 0 & 0 & 0 & 0 & 0 & 0 & 0 & 0\\\\\\frac{\\sqrt{2} \\sqrt{\\frac{ħ}{m ω}}}{2} & 0 & \\sqrt{\\frac{ħ}{m ω}} & 0 & 0 & 0 & 0 & 0 & 0 & 0\\\\0 & \\sqrt{\\frac{ħ}{m ω}} & 0 & \\frac{\\sqrt{6} \\sqrt{\\frac{ħ}{m ω}}}{2} & 0 & 0 & 0 & 0 & 0 & 0\\\\0 & 0 & \\frac{\\sqrt{6} \\sqrt{\\frac{ħ}{m ω}}}{2} & 0 & \\sqrt{2} \\sqrt{\\frac{ħ}{m ω}} & 0 & 0 & 0 & 0 & 0\\\\0 & 0 & 0 & \\sqrt{2} \\sqrt{\\frac{ħ}{m ω}} & 0 & \\frac{\\sqrt{10} \\sqrt{\\frac{ħ}{m ω}}}{2} & 0 & 0 & 0 & 0\\\\0 & 0 & 0 & 0 & \\frac{\\sqrt{10} \\sqrt{\\frac{ħ}{m ω}}}{2} & 0 & \\sqrt{3} \\sqrt{\\frac{ħ}{m ω}} & 0 & 0 & 0\\\\0 & 0 & 0 & 0 & 0 & \\sqrt{3} \\sqrt{\\frac{ħ}{m ω}} & 0 & \\frac{\\sqrt{14} \\sqrt{\\frac{ħ}{m ω}}}{2} & 0 & 0\\\\0 & 0 & 0 & 0 & 0 & 0 & \\frac{\\sqrt{14} \\sqrt{\\frac{ħ}{m ω}}}{2} & 0 & 2 \\sqrt{\\frac{ħ}{m ω}} & 0\\\\0 & 0 & 0 & 0 & 0 & 0 & 0 & 2 \\sqrt{\\frac{ħ}{m ω}} & 0 & \\frac{3 \\sqrt{2} \\sqrt{\\frac{ħ}{m ω}}}{2}\\\\0 & 0 & 0 & 0 & 0 & 0 & 0 & 0 & \\frac{3 \\sqrt{2} \\sqrt{\\frac{ħ}{m ω}}}{2} & 0\\end{matrix}\\right]$"
      ],
      "text/plain": [
       "Matrix([\n",
       "[                      0, sqrt(2)*sqrt(ħ/(m*ω))/2,                       0,                       0,                        0,                        0,                        0,                        0,                         0,                         0],\n",
       "[sqrt(2)*sqrt(ħ/(m*ω))/2,                       0,           sqrt(ħ/(m*ω)),                       0,                        0,                        0,                        0,                        0,                         0,                         0],\n",
       "[                      0,           sqrt(ħ/(m*ω)),                       0, sqrt(6)*sqrt(ħ/(m*ω))/2,                        0,                        0,                        0,                        0,                         0,                         0],\n",
       "[                      0,                       0, sqrt(6)*sqrt(ħ/(m*ω))/2,                       0,    sqrt(2)*sqrt(ħ/(m*ω)),                        0,                        0,                        0,                         0,                         0],\n",
       "[                      0,                       0,                       0,   sqrt(2)*sqrt(ħ/(m*ω)),                        0, sqrt(10)*sqrt(ħ/(m*ω))/2,                        0,                        0,                         0,                         0],\n",
       "[                      0,                       0,                       0,                       0, sqrt(10)*sqrt(ħ/(m*ω))/2,                        0,    sqrt(3)*sqrt(ħ/(m*ω)),                        0,                         0,                         0],\n",
       "[                      0,                       0,                       0,                       0,                        0,    sqrt(3)*sqrt(ħ/(m*ω)),                        0, sqrt(14)*sqrt(ħ/(m*ω))/2,                         0,                         0],\n",
       "[                      0,                       0,                       0,                       0,                        0,                        0, sqrt(14)*sqrt(ħ/(m*ω))/2,                        0,           2*sqrt(ħ/(m*ω)),                         0],\n",
       "[                      0,                       0,                       0,                       0,                        0,                        0,                        0,          2*sqrt(ħ/(m*ω)),                         0, 3*sqrt(2)*sqrt(ħ/(m*ω))/2],\n",
       "[                      0,                       0,                       0,                       0,                        0,                        0,                        0,                        0, 3*sqrt(2)*sqrt(ħ/(m*ω))/2,                         0]])"
      ]
     },
     "execution_count": 10,
     "metadata": {},
     "output_type": "execute_result"
    }
   ],
   "source": [
    "X"
   ]
  },
  {
   "cell_type": "code",
   "execution_count": 11,
   "id": "e3f160b9-8a3a-424a-a905-bb272dc563fe",
   "metadata": {},
   "outputs": [
    {
     "data": {
      "text/latex": [
       "$\\displaystyle \\left[\\begin{matrix}\\frac{ħ}{2 m ω} & 0 & \\frac{\\sqrt{2} ħ}{2 m ω} & 0 & 0 & 0 & 0 & 0 & 0 & 0\\\\0 & \\frac{3 ħ}{2 m ω} & 0 & \\frac{\\sqrt{6} ħ}{2 m ω} & 0 & 0 & 0 & 0 & 0 & 0\\\\\\frac{\\sqrt{2} ħ}{2 m ω} & 0 & \\frac{5 ħ}{2 m ω} & 0 & \\frac{\\sqrt{3} ħ}{m ω} & 0 & 0 & 0 & 0 & 0\\\\0 & \\frac{\\sqrt{6} ħ}{2 m ω} & 0 & \\frac{7 ħ}{2 m ω} & 0 & \\frac{\\sqrt{5} ħ}{m ω} & 0 & 0 & 0 & 0\\\\0 & 0 & \\frac{\\sqrt{3} ħ}{m ω} & 0 & \\frac{9 ħ}{2 m ω} & 0 & \\frac{\\sqrt{30} ħ}{2 m ω} & 0 & 0 & 0\\\\0 & 0 & 0 & \\frac{\\sqrt{5} ħ}{m ω} & 0 & \\frac{11 ħ}{2 m ω} & 0 & \\frac{\\sqrt{42} ħ}{2 m ω} & 0 & 0\\\\0 & 0 & 0 & 0 & \\frac{\\sqrt{30} ħ}{2 m ω} & 0 & \\frac{13 ħ}{2 m ω} & 0 & \\frac{\\sqrt{14} ħ}{m ω} & 0\\\\0 & 0 & 0 & 0 & 0 & \\frac{\\sqrt{42} ħ}{2 m ω} & 0 & \\frac{15 ħ}{2 m ω} & 0 & \\frac{3 \\sqrt{2} ħ}{m ω}\\\\0 & 0 & 0 & 0 & 0 & 0 & \\frac{\\sqrt{14} ħ}{m ω} & 0 & \\frac{17 ħ}{2 m ω} & 0\\\\0 & 0 & 0 & 0 & 0 & 0 & 0 & \\frac{3 \\sqrt{2} ħ}{m ω} & 0 & \\frac{9 ħ}{2 m ω}\\end{matrix}\\right]$"
      ],
      "text/plain": [
       "Matrix([\n",
       "[        ħ/(2*m*ω),                 0, sqrt(2)*ħ/(2*m*ω),                 0,                  0,                  0,                  0,                  0,                0,                 0],\n",
       "[                0,       3*ħ/(2*m*ω),                 0, sqrt(6)*ħ/(2*m*ω),                  0,                  0,                  0,                  0,                0,                 0],\n",
       "[sqrt(2)*ħ/(2*m*ω),                 0,       5*ħ/(2*m*ω),                 0,    sqrt(3)*ħ/(m*ω),                  0,                  0,                  0,                0,                 0],\n",
       "[                0, sqrt(6)*ħ/(2*m*ω),                 0,       7*ħ/(2*m*ω),                  0,    sqrt(5)*ħ/(m*ω),                  0,                  0,                0,                 0],\n",
       "[                0,                 0,   sqrt(3)*ħ/(m*ω),                 0,        9*ħ/(2*m*ω),                  0, sqrt(30)*ħ/(2*m*ω),                  0,                0,                 0],\n",
       "[                0,                 0,                 0,   sqrt(5)*ħ/(m*ω),                  0,       11*ħ/(2*m*ω),                  0, sqrt(42)*ħ/(2*m*ω),                0,                 0],\n",
       "[                0,                 0,                 0,                 0, sqrt(30)*ħ/(2*m*ω),                  0,       13*ħ/(2*m*ω),                  0, sqrt(14)*ħ/(m*ω),                 0],\n",
       "[                0,                 0,                 0,                 0,                  0, sqrt(42)*ħ/(2*m*ω),                  0,       15*ħ/(2*m*ω),                0, 3*sqrt(2)*ħ/(m*ω)],\n",
       "[                0,                 0,                 0,                 0,                  0,                  0,   sqrt(14)*ħ/(m*ω),                  0,     17*ħ/(2*m*ω),                 0],\n",
       "[                0,                 0,                 0,                 0,                  0,                  0,                  0,  3*sqrt(2)*ħ/(m*ω),                0,       9*ħ/(2*m*ω)]])"
      ]
     },
     "execution_count": 11,
     "metadata": {},
     "output_type": "execute_result"
    }
   ],
   "source": [
    "X**2"
   ]
  },
  {
   "cell_type": "code",
   "execution_count": 12,
   "id": "a42bc7f8-2c95-41fa-befa-3fabec940ab2",
   "metadata": {},
   "outputs": [
    {
     "data": {
      "text/latex": [
       "$\\displaystyle \\left[\\begin{matrix}0 & \\frac{3 \\sqrt{2} ħ \\sqrt{\\frac{ħ}{m ω}}}{4 m ω} & 0 & \\frac{\\sqrt{3} ħ \\sqrt{\\frac{ħ}{m ω}}}{2 m ω} & 0 & 0 & 0 & 0 & 0 & 0\\\\\\frac{3 \\sqrt{2} ħ \\sqrt{\\frac{ħ}{m ω}}}{4 m ω} & 0 & \\frac{3 ħ \\sqrt{\\frac{ħ}{m ω}}}{m ω} & 0 & \\frac{\\sqrt{3} ħ \\sqrt{\\frac{ħ}{m ω}}}{m ω} & 0 & 0 & 0 & 0 & 0\\\\0 & \\frac{3 ħ \\sqrt{\\frac{ħ}{m ω}}}{m ω} & 0 & \\frac{9 \\sqrt{6} ħ \\sqrt{\\frac{ħ}{m ω}}}{4 m ω} & 0 & \\frac{\\sqrt{30} ħ \\sqrt{\\frac{ħ}{m ω}}}{2 m ω} & 0 & 0 & 0 & 0\\\\\\frac{\\sqrt{3} ħ \\sqrt{\\frac{ħ}{m ω}}}{2 m ω} & 0 & \\frac{9 \\sqrt{6} ħ \\sqrt{\\frac{ħ}{m ω}}}{4 m ω} & 0 & \\frac{6 \\sqrt{2} ħ \\sqrt{\\frac{ħ}{m ω}}}{m ω} & 0 & \\frac{\\sqrt{15} ħ \\sqrt{\\frac{ħ}{m ω}}}{m ω} & 0 & 0 & 0\\\\0 & \\frac{\\sqrt{3} ħ \\sqrt{\\frac{ħ}{m ω}}}{m ω} & 0 & \\frac{6 \\sqrt{2} ħ \\sqrt{\\frac{ħ}{m ω}}}{m ω} & 0 & \\frac{15 \\sqrt{10} ħ \\sqrt{\\frac{ħ}{m ω}}}{4 m ω} & 0 & \\frac{\\sqrt{105} ħ \\sqrt{\\frac{ħ}{m ω}}}{2 m ω} & 0 & 0\\\\0 & 0 & \\frac{\\sqrt{30} ħ \\sqrt{\\frac{ħ}{m ω}}}{2 m ω} & 0 & \\frac{15 \\sqrt{10} ħ \\sqrt{\\frac{ħ}{m ω}}}{4 m ω} & 0 & \\frac{9 \\sqrt{3} ħ \\sqrt{\\frac{ħ}{m ω}}}{m ω} & 0 & \\frac{\\sqrt{42} ħ \\sqrt{\\frac{ħ}{m ω}}}{m ω} & 0\\\\0 & 0 & 0 & \\frac{\\sqrt{15} ħ \\sqrt{\\frac{ħ}{m ω}}}{m ω} & 0 & \\frac{9 \\sqrt{3} ħ \\sqrt{\\frac{ħ}{m ω}}}{m ω} & 0 & \\frac{21 \\sqrt{14} ħ \\sqrt{\\frac{ħ}{m ω}}}{4 m ω} & 0 & \\frac{3 \\sqrt{7} ħ \\sqrt{\\frac{ħ}{m ω}}}{m ω}\\\\0 & 0 & 0 & 0 & \\frac{\\sqrt{105} ħ \\sqrt{\\frac{ħ}{m ω}}}{2 m ω} & 0 & \\frac{21 \\sqrt{14} ħ \\sqrt{\\frac{ħ}{m ω}}}{4 m ω} & 0 & \\frac{24 ħ \\sqrt{\\frac{ħ}{m ω}}}{m ω} & 0\\\\0 & 0 & 0 & 0 & 0 & \\frac{\\sqrt{42} ħ \\sqrt{\\frac{ħ}{m ω}}}{m ω} & 0 & \\frac{24 ħ \\sqrt{\\frac{ħ}{m ω}}}{m ω} & 0 & \\frac{51 \\sqrt{2} ħ \\sqrt{\\frac{ħ}{m ω}}}{4 m ω}\\\\0 & 0 & 0 & 0 & 0 & 0 & \\frac{3 \\sqrt{7} ħ \\sqrt{\\frac{ħ}{m ω}}}{m ω} & 0 & \\frac{51 \\sqrt{2} ħ \\sqrt{\\frac{ħ}{m ω}}}{4 m ω} & 0\\end{matrix}\\right]$"
      ],
      "text/plain": [
       "Matrix([\n",
       "[                                0, 3*sqrt(2)*ħ*sqrt(ħ/(m*ω))/(4*m*ω),                                 0,   sqrt(3)*ħ*sqrt(ħ/(m*ω))/(2*m*ω),                                   0,                                   0,                                   0,                                   0,                                  0,                                  0],\n",
       "[3*sqrt(2)*ħ*sqrt(ħ/(m*ω))/(4*m*ω),                                 0,           3*ħ*sqrt(ħ/(m*ω))/(m*ω),                                 0,       sqrt(3)*ħ*sqrt(ħ/(m*ω))/(m*ω),                                   0,                                   0,                                   0,                                  0,                                  0],\n",
       "[                                0,           3*ħ*sqrt(ħ/(m*ω))/(m*ω),                                 0, 9*sqrt(6)*ħ*sqrt(ħ/(m*ω))/(4*m*ω),                                   0,    sqrt(30)*ħ*sqrt(ħ/(m*ω))/(2*m*ω),                                   0,                                   0,                                  0,                                  0],\n",
       "[  sqrt(3)*ħ*sqrt(ħ/(m*ω))/(2*m*ω),                                 0, 9*sqrt(6)*ħ*sqrt(ħ/(m*ω))/(4*m*ω),                                 0,     6*sqrt(2)*ħ*sqrt(ħ/(m*ω))/(m*ω),                                   0,      sqrt(15)*ħ*sqrt(ħ/(m*ω))/(m*ω),                                   0,                                  0,                                  0],\n",
       "[                                0,     sqrt(3)*ħ*sqrt(ħ/(m*ω))/(m*ω),                                 0,   6*sqrt(2)*ħ*sqrt(ħ/(m*ω))/(m*ω),                                   0, 15*sqrt(10)*ħ*sqrt(ħ/(m*ω))/(4*m*ω),                                   0,   sqrt(105)*ħ*sqrt(ħ/(m*ω))/(2*m*ω),                                  0,                                  0],\n",
       "[                                0,                                 0,  sqrt(30)*ħ*sqrt(ħ/(m*ω))/(2*m*ω),                                 0, 15*sqrt(10)*ħ*sqrt(ħ/(m*ω))/(4*m*ω),                                   0,     9*sqrt(3)*ħ*sqrt(ħ/(m*ω))/(m*ω),                                   0,     sqrt(42)*ħ*sqrt(ħ/(m*ω))/(m*ω),                                  0],\n",
       "[                                0,                                 0,                                 0,    sqrt(15)*ħ*sqrt(ħ/(m*ω))/(m*ω),                                   0,     9*sqrt(3)*ħ*sqrt(ħ/(m*ω))/(m*ω),                                   0, 21*sqrt(14)*ħ*sqrt(ħ/(m*ω))/(4*m*ω),                                  0,    3*sqrt(7)*ħ*sqrt(ħ/(m*ω))/(m*ω)],\n",
       "[                                0,                                 0,                                 0,                                 0,   sqrt(105)*ħ*sqrt(ħ/(m*ω))/(2*m*ω),                                   0, 21*sqrt(14)*ħ*sqrt(ħ/(m*ω))/(4*m*ω),                                   0,           24*ħ*sqrt(ħ/(m*ω))/(m*ω),                                  0],\n",
       "[                                0,                                 0,                                 0,                                 0,                                   0,      sqrt(42)*ħ*sqrt(ħ/(m*ω))/(m*ω),                                   0,            24*ħ*sqrt(ħ/(m*ω))/(m*ω),                                  0, 51*sqrt(2)*ħ*sqrt(ħ/(m*ω))/(4*m*ω)],\n",
       "[                                0,                                 0,                                 0,                                 0,                                   0,                                   0,     3*sqrt(7)*ħ*sqrt(ħ/(m*ω))/(m*ω),                                   0, 51*sqrt(2)*ħ*sqrt(ħ/(m*ω))/(4*m*ω),                                  0]])"
      ]
     },
     "execution_count": 12,
     "metadata": {},
     "output_type": "execute_result"
    }
   ],
   "source": [
    "X**3"
   ]
  },
  {
   "cell_type": "code",
   "execution_count": 13,
   "id": "23603427-fe5b-4771-a0b5-2e8799fb36ab",
   "metadata": {},
   "outputs": [
    {
     "data": {
      "text/latex": [
       "$\\displaystyle \\left[\\begin{matrix}\\frac{3 ħ^{2}}{4 m^{2} ω^{2}} & 0 & \\frac{3 \\sqrt{2} ħ^{2}}{2 m^{2} ω^{2}} & 0 & \\frac{\\sqrt{6} ħ^{2}}{2 m^{2} ω^{2}} & 0 & 0 & 0 & 0 & 0\\\\0 & \\frac{15 ħ^{2}}{4 m^{2} ω^{2}} & 0 & \\frac{5 \\sqrt{6} ħ^{2}}{2 m^{2} ω^{2}} & 0 & \\frac{\\sqrt{30} ħ^{2}}{2 m^{2} ω^{2}} & 0 & 0 & 0 & 0\\\\\\frac{3 \\sqrt{2} ħ^{2}}{2 m^{2} ω^{2}} & 0 & \\frac{39 ħ^{2}}{4 m^{2} ω^{2}} & 0 & \\frac{7 \\sqrt{3} ħ^{2}}{m^{2} ω^{2}} & 0 & \\frac{3 \\sqrt{10} ħ^{2}}{2 m^{2} ω^{2}} & 0 & 0 & 0\\\\0 & \\frac{5 \\sqrt{6} ħ^{2}}{2 m^{2} ω^{2}} & 0 & \\frac{75 ħ^{2}}{4 m^{2} ω^{2}} & 0 & \\frac{9 \\sqrt{5} ħ^{2}}{m^{2} ω^{2}} & 0 & \\frac{\\sqrt{210} ħ^{2}}{2 m^{2} ω^{2}} & 0 & 0\\\\\\frac{\\sqrt{6} ħ^{2}}{2 m^{2} ω^{2}} & 0 & \\frac{7 \\sqrt{3} ħ^{2}}{m^{2} ω^{2}} & 0 & \\frac{123 ħ^{2}}{4 m^{2} ω^{2}} & 0 & \\frac{11 \\sqrt{30} ħ^{2}}{2 m^{2} ω^{2}} & 0 & \\frac{\\sqrt{105} ħ^{2}}{m^{2} ω^{2}} & 0\\\\0 & \\frac{\\sqrt{30} ħ^{2}}{2 m^{2} ω^{2}} & 0 & \\frac{9 \\sqrt{5} ħ^{2}}{m^{2} ω^{2}} & 0 & \\frac{183 ħ^{2}}{4 m^{2} ω^{2}} & 0 & \\frac{13 \\sqrt{42} ħ^{2}}{2 m^{2} ω^{2}} & 0 & \\frac{3 \\sqrt{21} ħ^{2}}{m^{2} ω^{2}}\\\\0 & 0 & \\frac{3 \\sqrt{10} ħ^{2}}{2 m^{2} ω^{2}} & 0 & \\frac{11 \\sqrt{30} ħ^{2}}{2 m^{2} ω^{2}} & 0 & \\frac{255 ħ^{2}}{4 m^{2} ω^{2}} & 0 & \\frac{15 \\sqrt{14} ħ^{2}}{m^{2} ω^{2}} & 0\\\\0 & 0 & 0 & \\frac{\\sqrt{210} ħ^{2}}{2 m^{2} ω^{2}} & 0 & \\frac{13 \\sqrt{42} ħ^{2}}{2 m^{2} ω^{2}} & 0 & \\frac{339 ħ^{2}}{4 m^{2} ω^{2}} & 0 & \\frac{36 \\sqrt{2} ħ^{2}}{m^{2} ω^{2}}\\\\0 & 0 & 0 & 0 & \\frac{\\sqrt{105} ħ^{2}}{m^{2} ω^{2}} & 0 & \\frac{15 \\sqrt{14} ħ^{2}}{m^{2} ω^{2}} & 0 & \\frac{345 ħ^{2}}{4 m^{2} ω^{2}} & 0\\\\0 & 0 & 0 & 0 & 0 & \\frac{3 \\sqrt{21} ħ^{2}}{m^{2} ω^{2}} & 0 & \\frac{36 \\sqrt{2} ħ^{2}}{m^{2} ω^{2}} & 0 & \\frac{153 ħ^{2}}{4 m^{2} ω^{2}}\\end{matrix}\\right]$"
      ],
      "text/plain": [
       "Matrix([\n",
       "[        3*ħ**2/(4*m**2*ω**2),                            0,  3*sqrt(2)*ħ**2/(2*m**2*ω**2),                            0,     sqrt(6)*ħ**2/(2*m**2*ω**2),                              0,                              0,                              0,                            0,                           0],\n",
       "[                           0,        15*ħ**2/(4*m**2*ω**2),                             0, 5*sqrt(6)*ħ**2/(2*m**2*ω**2),                              0,    sqrt(30)*ħ**2/(2*m**2*ω**2),                              0,                              0,                            0,                           0],\n",
       "[3*sqrt(2)*ħ**2/(2*m**2*ω**2),                            0,         39*ħ**2/(4*m**2*ω**2),                            0,     7*sqrt(3)*ħ**2/(m**2*ω**2),                              0,  3*sqrt(10)*ħ**2/(2*m**2*ω**2),                              0,                            0,                           0],\n",
       "[                           0, 5*sqrt(6)*ħ**2/(2*m**2*ω**2),                             0,        75*ħ**2/(4*m**2*ω**2),                              0,     9*sqrt(5)*ħ**2/(m**2*ω**2),                              0,   sqrt(210)*ħ**2/(2*m**2*ω**2),                            0,                           0],\n",
       "[  sqrt(6)*ħ**2/(2*m**2*ω**2),                            0,    7*sqrt(3)*ħ**2/(m**2*ω**2),                            0,         123*ħ**2/(4*m**2*ω**2),                              0, 11*sqrt(30)*ħ**2/(2*m**2*ω**2),                              0,   sqrt(105)*ħ**2/(m**2*ω**2),                           0],\n",
       "[                           0,  sqrt(30)*ħ**2/(2*m**2*ω**2),                             0,   9*sqrt(5)*ħ**2/(m**2*ω**2),                              0,         183*ħ**2/(4*m**2*ω**2),                              0, 13*sqrt(42)*ħ**2/(2*m**2*ω**2),                            0, 3*sqrt(21)*ħ**2/(m**2*ω**2)],\n",
       "[                           0,                            0, 3*sqrt(10)*ħ**2/(2*m**2*ω**2),                            0, 11*sqrt(30)*ħ**2/(2*m**2*ω**2),                              0,         255*ħ**2/(4*m**2*ω**2),                              0, 15*sqrt(14)*ħ**2/(m**2*ω**2),                           0],\n",
       "[                           0,                            0,                             0, sqrt(210)*ħ**2/(2*m**2*ω**2),                              0, 13*sqrt(42)*ħ**2/(2*m**2*ω**2),                              0,         339*ħ**2/(4*m**2*ω**2),                            0, 36*sqrt(2)*ħ**2/(m**2*ω**2)],\n",
       "[                           0,                            0,                             0,                            0,     sqrt(105)*ħ**2/(m**2*ω**2),                              0,   15*sqrt(14)*ħ**2/(m**2*ω**2),                              0,       345*ħ**2/(4*m**2*ω**2),                           0],\n",
       "[                           0,                            0,                             0,                            0,                              0,    3*sqrt(21)*ħ**2/(m**2*ω**2),                              0,    36*sqrt(2)*ħ**2/(m**2*ω**2),                            0,      153*ħ**2/(4*m**2*ω**2)]])"
      ]
     },
     "execution_count": 13,
     "metadata": {},
     "output_type": "execute_result"
    }
   ],
   "source": [
    "X**4"
   ]
  },
  {
   "cell_type": "code",
   "execution_count": 14,
   "id": "73157554-3093-43f6-b594-070fd3ece59a",
   "metadata": {},
   "outputs": [
    {
     "data": {
      "text/latex": [
       "$\\displaystyle \\left[\\begin{matrix}0 & \\frac{15 \\sqrt{2} ħ^{2} \\sqrt{\\frac{ħ}{m ω}}}{8 m^{2} ω^{2}} & 0 & \\frac{5 \\sqrt{3} ħ^{2} \\sqrt{\\frac{ħ}{m ω}}}{2 m^{2} ω^{2}} & 0 & \\frac{\\sqrt{15} ħ^{2} \\sqrt{\\frac{ħ}{m ω}}}{2 m^{2} ω^{2}} & 0 & 0 & 0 & 0\\\\\\frac{15 \\sqrt{2} ħ^{2} \\sqrt{\\frac{ħ}{m ω}}}{8 m^{2} ω^{2}} & 0 & \\frac{45 ħ^{2} \\sqrt{\\frac{ħ}{m ω}}}{4 m^{2} ω^{2}} & 0 & \\frac{15 \\sqrt{3} ħ^{2} \\sqrt{\\frac{ħ}{m ω}}}{2 m^{2} ω^{2}} & 0 & \\frac{3 \\sqrt{10} ħ^{2} \\sqrt{\\frac{ħ}{m ω}}}{2 m^{2} ω^{2}} & 0 & 0 & 0\\\\0 & \\frac{45 ħ^{2} \\sqrt{\\frac{ħ}{m ω}}}{4 m^{2} ω^{2}} & 0 & \\frac{95 \\sqrt{6} ħ^{2} \\sqrt{\\frac{ħ}{m ω}}}{8 m^{2} ω^{2}} & 0 & \\frac{5 \\sqrt{30} ħ^{2} \\sqrt{\\frac{ħ}{m ω}}}{m^{2} ω^{2}} & 0 & \\frac{3 \\sqrt{35} ħ^{2} \\sqrt{\\frac{ħ}{m ω}}}{2 m^{2} ω^{2}} & 0 & 0\\\\\\frac{5 \\sqrt{3} ħ^{2} \\sqrt{\\frac{ħ}{m ω}}}{2 m^{2} ω^{2}} & 0 & \\frac{95 \\sqrt{6} ħ^{2} \\sqrt{\\frac{ħ}{m ω}}}{8 m^{2} ω^{2}} & 0 & \\frac{165 \\sqrt{2} ħ^{2} \\sqrt{\\frac{ħ}{m ω}}}{4 m^{2} ω^{2}} & 0 & \\frac{25 \\sqrt{15} ħ^{2} \\sqrt{\\frac{ħ}{m ω}}}{2 m^{2} ω^{2}} & 0 & \\frac{\\sqrt{210} ħ^{2} \\sqrt{\\frac{ħ}{m ω}}}{m^{2} ω^{2}} & 0\\\\0 & \\frac{15 \\sqrt{3} ħ^{2} \\sqrt{\\frac{ħ}{m ω}}}{2 m^{2} ω^{2}} & 0 & \\frac{165 \\sqrt{2} ħ^{2} \\sqrt{\\frac{ħ}{m ω}}}{4 m^{2} ω^{2}} & 0 & \\frac{255 \\sqrt{10} ħ^{2} \\sqrt{\\frac{ħ}{m ω}}}{8 m^{2} ω^{2}} & 0 & \\frac{15 \\sqrt{105} ħ^{2} \\sqrt{\\frac{ħ}{m ω}}}{2 m^{2} ω^{2}} & 0 & \\frac{3 \\sqrt{210} ħ^{2} \\sqrt{\\frac{ħ}{m ω}}}{2 m^{2} ω^{2}}\\\\\\frac{\\sqrt{15} ħ^{2} \\sqrt{\\frac{ħ}{m ω}}}{2 m^{2} ω^{2}} & 0 & \\frac{5 \\sqrt{30} ħ^{2} \\sqrt{\\frac{ħ}{m ω}}}{m^{2} ω^{2}} & 0 & \\frac{255 \\sqrt{10} ħ^{2} \\sqrt{\\frac{ħ}{m ω}}}{8 m^{2} ω^{2}} & 0 & \\frac{365 \\sqrt{3} ħ^{2} \\sqrt{\\frac{ħ}{m ω}}}{4 m^{2} ω^{2}} & 0 & \\frac{35 \\sqrt{42} ħ^{2} \\sqrt{\\frac{ħ}{m ω}}}{2 m^{2} ω^{2}} & 0\\\\0 & \\frac{3 \\sqrt{10} ħ^{2} \\sqrt{\\frac{ħ}{m ω}}}{2 m^{2} ω^{2}} & 0 & \\frac{25 \\sqrt{15} ħ^{2} \\sqrt{\\frac{ħ}{m ω}}}{2 m^{2} ω^{2}} & 0 & \\frac{365 \\sqrt{3} ħ^{2} \\sqrt{\\frac{ħ}{m ω}}}{4 m^{2} ω^{2}} & 0 & \\frac{495 \\sqrt{14} ħ^{2} \\sqrt{\\frac{ħ}{m ω}}}{8 m^{2} ω^{2}} & 0 & \\frac{45 \\sqrt{7} ħ^{2} \\sqrt{\\frac{ħ}{m ω}}}{m^{2} ω^{2}}\\\\0 & 0 & \\frac{3 \\sqrt{35} ħ^{2} \\sqrt{\\frac{ħ}{m ω}}}{2 m^{2} ω^{2}} & 0 & \\frac{15 \\sqrt{105} ħ^{2} \\sqrt{\\frac{ħ}{m ω}}}{2 m^{2} ω^{2}} & 0 & \\frac{495 \\sqrt{14} ħ^{2} \\sqrt{\\frac{ħ}{m ω}}}{8 m^{2} ω^{2}} & 0 & \\frac{555 ħ^{2} \\sqrt{\\frac{ħ}{m ω}}}{2 m^{2} ω^{2}} & 0\\\\0 & 0 & 0 & \\frac{\\sqrt{210} ħ^{2} \\sqrt{\\frac{ħ}{m ω}}}{m^{2} ω^{2}} & 0 & \\frac{35 \\sqrt{42} ħ^{2} \\sqrt{\\frac{ħ}{m ω}}}{2 m^{2} ω^{2}} & 0 & \\frac{555 ħ^{2} \\sqrt{\\frac{ħ}{m ω}}}{2 m^{2} ω^{2}} & 0 & \\frac{1035 \\sqrt{2} ħ^{2} \\sqrt{\\frac{ħ}{m ω}}}{8 m^{2} ω^{2}}\\\\0 & 0 & 0 & 0 & \\frac{3 \\sqrt{210} ħ^{2} \\sqrt{\\frac{ħ}{m ω}}}{2 m^{2} ω^{2}} & 0 & \\frac{45 \\sqrt{7} ħ^{2} \\sqrt{\\frac{ħ}{m ω}}}{m^{2} ω^{2}} & 0 & \\frac{1035 \\sqrt{2} ħ^{2} \\sqrt{\\frac{ħ}{m ω}}}{8 m^{2} ω^{2}} & 0\\end{matrix}\\right]$"
      ],
      "text/plain": [
       "Matrix([\n",
       "[                                          0, 15*sqrt(2)*ħ**2*sqrt(ħ/(m*ω))/(8*m**2*ω**2),                                           0,   5*sqrt(3)*ħ**2*sqrt(ħ/(m*ω))/(2*m**2*ω**2),                                             0,     sqrt(15)*ħ**2*sqrt(ħ/(m*ω))/(2*m**2*ω**2),                                             0,                                             0,                                             0,                                             0],\n",
       "[15*sqrt(2)*ħ**2*sqrt(ħ/(m*ω))/(8*m**2*ω**2),                                           0,         45*ħ**2*sqrt(ħ/(m*ω))/(4*m**2*ω**2),                                            0,   15*sqrt(3)*ħ**2*sqrt(ħ/(m*ω))/(2*m**2*ω**2),                                             0,   3*sqrt(10)*ħ**2*sqrt(ħ/(m*ω))/(2*m**2*ω**2),                                             0,                                             0,                                             0],\n",
       "[                                          0,         45*ħ**2*sqrt(ħ/(m*ω))/(4*m**2*ω**2),                                           0,  95*sqrt(6)*ħ**2*sqrt(ħ/(m*ω))/(8*m**2*ω**2),                                             0,     5*sqrt(30)*ħ**2*sqrt(ħ/(m*ω))/(m**2*ω**2),                                             0,   3*sqrt(35)*ħ**2*sqrt(ħ/(m*ω))/(2*m**2*ω**2),                                             0,                                             0],\n",
       "[ 5*sqrt(3)*ħ**2*sqrt(ħ/(m*ω))/(2*m**2*ω**2),                                           0, 95*sqrt(6)*ħ**2*sqrt(ħ/(m*ω))/(8*m**2*ω**2),                                            0,  165*sqrt(2)*ħ**2*sqrt(ħ/(m*ω))/(4*m**2*ω**2),                                             0,  25*sqrt(15)*ħ**2*sqrt(ħ/(m*ω))/(2*m**2*ω**2),                                             0,      sqrt(210)*ħ**2*sqrt(ħ/(m*ω))/(m**2*ω**2),                                             0],\n",
       "[                                          0, 15*sqrt(3)*ħ**2*sqrt(ħ/(m*ω))/(2*m**2*ω**2),                                           0, 165*sqrt(2)*ħ**2*sqrt(ħ/(m*ω))/(4*m**2*ω**2),                                             0, 255*sqrt(10)*ħ**2*sqrt(ħ/(m*ω))/(8*m**2*ω**2),                                             0, 15*sqrt(105)*ħ**2*sqrt(ħ/(m*ω))/(2*m**2*ω**2),                                             0,  3*sqrt(210)*ħ**2*sqrt(ħ/(m*ω))/(2*m**2*ω**2)],\n",
       "[  sqrt(15)*ħ**2*sqrt(ħ/(m*ω))/(2*m**2*ω**2),                                           0,   5*sqrt(30)*ħ**2*sqrt(ħ/(m*ω))/(m**2*ω**2),                                            0, 255*sqrt(10)*ħ**2*sqrt(ħ/(m*ω))/(8*m**2*ω**2),                                             0,  365*sqrt(3)*ħ**2*sqrt(ħ/(m*ω))/(4*m**2*ω**2),                                             0,  35*sqrt(42)*ħ**2*sqrt(ħ/(m*ω))/(2*m**2*ω**2),                                             0],\n",
       "[                                          0, 3*sqrt(10)*ħ**2*sqrt(ħ/(m*ω))/(2*m**2*ω**2),                                           0, 25*sqrt(15)*ħ**2*sqrt(ħ/(m*ω))/(2*m**2*ω**2),                                             0,  365*sqrt(3)*ħ**2*sqrt(ħ/(m*ω))/(4*m**2*ω**2),                                             0, 495*sqrt(14)*ħ**2*sqrt(ħ/(m*ω))/(8*m**2*ω**2),                                             0,     45*sqrt(7)*ħ**2*sqrt(ħ/(m*ω))/(m**2*ω**2)],\n",
       "[                                          0,                                           0, 3*sqrt(35)*ħ**2*sqrt(ħ/(m*ω))/(2*m**2*ω**2),                                            0, 15*sqrt(105)*ħ**2*sqrt(ħ/(m*ω))/(2*m**2*ω**2),                                             0, 495*sqrt(14)*ħ**2*sqrt(ħ/(m*ω))/(8*m**2*ω**2),                                             0,          555*ħ**2*sqrt(ħ/(m*ω))/(2*m**2*ω**2),                                             0],\n",
       "[                                          0,                                           0,                                           0,     sqrt(210)*ħ**2*sqrt(ħ/(m*ω))/(m**2*ω**2),                                             0,  35*sqrt(42)*ħ**2*sqrt(ħ/(m*ω))/(2*m**2*ω**2),                                             0,          555*ħ**2*sqrt(ħ/(m*ω))/(2*m**2*ω**2),                                             0, 1035*sqrt(2)*ħ**2*sqrt(ħ/(m*ω))/(8*m**2*ω**2)],\n",
       "[                                          0,                                           0,                                           0,                                            0,  3*sqrt(210)*ħ**2*sqrt(ħ/(m*ω))/(2*m**2*ω**2),                                             0,     45*sqrt(7)*ħ**2*sqrt(ħ/(m*ω))/(m**2*ω**2),                                             0, 1035*sqrt(2)*ħ**2*sqrt(ħ/(m*ω))/(8*m**2*ω**2),                                             0]])"
      ]
     },
     "execution_count": 14,
     "metadata": {},
     "output_type": "execute_result"
    }
   ],
   "source": [
    "X**5"
   ]
  },
  {
   "cell_type": "markdown",
   "id": "02713b53-6638-4e2c-afa9-cf515df2ecfc",
   "metadata": {},
   "source": [
    "Podemos realizar un procedimiento similar con el operador $P$. Tenemos que el operador adimensional $\\hat{P}$ es $\\hat{P}=\\dfrac{1}{\\sqrt{m\\hbar\\omega}}P$ y además de eso sabemos que $\\hat{P}=\\dfrac{i}{\\sqrt{2}}(a^{\\dagger}-a)$.\n",
    "\n",
    "Realizando entonces un simple despeje llegamos a que \n",
    "\\begin{equation}\n",
    "\\boxed{P=i\\sqrt{\\dfrac{m\\hbar\\omega}{2}}(a^{\\dagger}-a)}\n",
    "\\end{equation}"
   ]
  },
  {
   "cell_type": "code",
   "execution_count": 16,
   "id": "3e11a3cb-7c32-4c0f-b623-1fee62979c28",
   "metadata": {},
   "outputs": [],
   "source": [
    "P = sp.sqrt(m*w*h) * (1j/sp.sqrt(2)) * (a_dagger - a)"
   ]
  },
  {
   "cell_type": "markdown",
   "id": "e7a1e1ea-b1cf-4483-ba30-ef60c3d60dd8",
   "metadata": {},
   "source": [
    "Ahora solo imprimimos los $P^i$ con ``i = 1,2,3,4,5``."
   ]
  },
  {
   "cell_type": "code",
   "execution_count": 18,
   "id": "5f511de6-3d69-43c4-88d3-98180088d6e6",
   "metadata": {},
   "outputs": [
    {
     "data": {
      "text/latex": [
       "$\\displaystyle \\left[\\begin{matrix}0 & - 0.5 \\sqrt{2} i \\sqrt{m ħ ω} & 0 & 0 & 0 & 0 & 0 & 0 & 0 & 0\\\\0.5 \\sqrt{2} i \\sqrt{m ħ ω} & 0 & - 1.0 i \\sqrt{m ħ ω} & 0 & 0 & 0 & 0 & 0 & 0 & 0\\\\0 & 1.0 i \\sqrt{m ħ ω} & 0 & - 0.5 \\sqrt{6} i \\sqrt{m ħ ω} & 0 & 0 & 0 & 0 & 0 & 0\\\\0 & 0 & 0.5 \\sqrt{6} i \\sqrt{m ħ ω} & 0 & - 1.0 \\sqrt{2} i \\sqrt{m ħ ω} & 0 & 0 & 0 & 0 & 0\\\\0 & 0 & 0 & 1.0 \\sqrt{2} i \\sqrt{m ħ ω} & 0 & - 0.5 \\sqrt{10} i \\sqrt{m ħ ω} & 0 & 0 & 0 & 0\\\\0 & 0 & 0 & 0 & 0.5 \\sqrt{10} i \\sqrt{m ħ ω} & 0 & - 1.0 \\sqrt{3} i \\sqrt{m ħ ω} & 0 & 0 & 0\\\\0 & 0 & 0 & 0 & 0 & 1.0 \\sqrt{3} i \\sqrt{m ħ ω} & 0 & - 0.5 \\sqrt{14} i \\sqrt{m ħ ω} & 0 & 0\\\\0 & 0 & 0 & 0 & 0 & 0 & 0.5 \\sqrt{14} i \\sqrt{m ħ ω} & 0 & - 2.0 i \\sqrt{m ħ ω} & 0\\\\0 & 0 & 0 & 0 & 0 & 0 & 0 & 2.0 i \\sqrt{m ħ ω} & 0 & - 1.5 \\sqrt{2} i \\sqrt{m ħ ω}\\\\0 & 0 & 0 & 0 & 0 & 0 & 0 & 0 & 1.5 \\sqrt{2} i \\sqrt{m ħ ω} & 0\\end{matrix}\\right]$"
      ],
      "text/plain": [
       "Matrix([\n",
       "[                        0, -0.5*sqrt(2)*I*sqrt(m*ħ*ω),                         0,                          0,                          0,                           0,                          0,                           0,                         0,                          0],\n",
       "[0.5*sqrt(2)*I*sqrt(m*ħ*ω),                          0,        -1.0*I*sqrt(m*ħ*ω),                          0,                          0,                           0,                          0,                           0,                         0,                          0],\n",
       "[                        0,          1.0*I*sqrt(m*ħ*ω),                         0, -0.5*sqrt(6)*I*sqrt(m*ħ*ω),                          0,                           0,                          0,                           0,                         0,                          0],\n",
       "[                        0,                          0, 0.5*sqrt(6)*I*sqrt(m*ħ*ω),                          0, -1.0*sqrt(2)*I*sqrt(m*ħ*ω),                           0,                          0,                           0,                         0,                          0],\n",
       "[                        0,                          0,                         0,  1.0*sqrt(2)*I*sqrt(m*ħ*ω),                          0, -0.5*sqrt(10)*I*sqrt(m*ħ*ω),                          0,                           0,                         0,                          0],\n",
       "[                        0,                          0,                         0,                          0, 0.5*sqrt(10)*I*sqrt(m*ħ*ω),                           0, -1.0*sqrt(3)*I*sqrt(m*ħ*ω),                           0,                         0,                          0],\n",
       "[                        0,                          0,                         0,                          0,                          0,   1.0*sqrt(3)*I*sqrt(m*ħ*ω),                          0, -0.5*sqrt(14)*I*sqrt(m*ħ*ω),                         0,                          0],\n",
       "[                        0,                          0,                         0,                          0,                          0,                           0, 0.5*sqrt(14)*I*sqrt(m*ħ*ω),                           0,        -2.0*I*sqrt(m*ħ*ω),                          0],\n",
       "[                        0,                          0,                         0,                          0,                          0,                           0,                          0,           2.0*I*sqrt(m*ħ*ω),                         0, -1.5*sqrt(2)*I*sqrt(m*ħ*ω)],\n",
       "[                        0,                          0,                         0,                          0,                          0,                           0,                          0,                           0, 1.5*sqrt(2)*I*sqrt(m*ħ*ω),                          0]])"
      ]
     },
     "execution_count": 18,
     "metadata": {},
     "output_type": "execute_result"
    }
   ],
   "source": [
    "sp.simplify(P)"
   ]
  },
  {
   "cell_type": "code",
   "execution_count": 19,
   "id": "e8c63c04-eed7-49c0-b640-a621c8b204a0",
   "metadata": {},
   "outputs": [
    {
     "data": {
      "text/latex": [
       "$\\displaystyle \\left[\\begin{matrix}0.5 m ħ ω & 0 & - 0.5 \\sqrt{2} m ħ ω & 0 & 0 & 0 & 0 & 0 & 0 & 0\\\\0 & 1.5 m ħ ω & 0 & - 0.5 \\sqrt{6} m ħ ω & 0 & 0 & 0 & 0 & 0 & 0\\\\- 0.5 \\sqrt{2} m ħ ω & 0 & 2.5 m ħ ω & 0 & - 1.0 \\sqrt{3} m ħ ω & 0 & 0 & 0 & 0 & 0\\\\0 & - 0.5 \\sqrt{6} m ħ ω & 0 & 3.5 m ħ ω & 0 & - 1.0 \\sqrt{5} m ħ ω & 0 & 0 & 0 & 0\\\\0 & 0 & - 1.0 \\sqrt{3} m ħ ω & 0 & 4.5 m ħ ω & 0 & - 0.5 \\sqrt{30} m ħ ω & 0 & 0 & 0\\\\0 & 0 & 0 & - 1.0 \\sqrt{5} m ħ ω & 0 & 5.5 m ħ ω & 0 & - 0.5 \\sqrt{42} m ħ ω & 0 & 0\\\\0 & 0 & 0 & 0 & - 0.5 \\sqrt{30} m ħ ω & 0 & 6.5 m ħ ω & 0 & - 1.0 \\sqrt{14} m ħ ω & 0\\\\0 & 0 & 0 & 0 & 0 & - 0.5 \\sqrt{42} m ħ ω & 0 & 7.5 m ħ ω & 0 & - 3.0 \\sqrt{2} m ħ ω\\\\0 & 0 & 0 & 0 & 0 & 0 & - 1.0 \\sqrt{14} m ħ ω & 0 & 8.5 m ħ ω & 0\\\\0 & 0 & 0 & 0 & 0 & 0 & 0 & - 3.0 \\sqrt{2} m ħ ω & 0 & 4.5 m ħ ω\\end{matrix}\\right]$"
      ],
      "text/plain": [
       "Matrix([\n",
       "[         0.5*m*ħ*ω,                  0, -0.5*sqrt(2)*m*ħ*ω,                  0,                   0,                   0,                   0,                   0,                   0,                  0],\n",
       "[                 0,          1.5*m*ħ*ω,                  0, -0.5*sqrt(6)*m*ħ*ω,                   0,                   0,                   0,                   0,                   0,                  0],\n",
       "[-0.5*sqrt(2)*m*ħ*ω,                  0,          2.5*m*ħ*ω,                  0,  -1.0*sqrt(3)*m*ħ*ω,                   0,                   0,                   0,                   0,                  0],\n",
       "[                 0, -0.5*sqrt(6)*m*ħ*ω,                  0,          3.5*m*ħ*ω,                   0,  -1.0*sqrt(5)*m*ħ*ω,                   0,                   0,                   0,                  0],\n",
       "[                 0,                  0, -1.0*sqrt(3)*m*ħ*ω,                  0,           4.5*m*ħ*ω,                   0, -0.5*sqrt(30)*m*ħ*ω,                   0,                   0,                  0],\n",
       "[                 0,                  0,                  0, -1.0*sqrt(5)*m*ħ*ω,                   0,           5.5*m*ħ*ω,                   0, -0.5*sqrt(42)*m*ħ*ω,                   0,                  0],\n",
       "[                 0,                  0,                  0,                  0, -0.5*sqrt(30)*m*ħ*ω,                   0,           6.5*m*ħ*ω,                   0, -1.0*sqrt(14)*m*ħ*ω,                  0],\n",
       "[                 0,                  0,                  0,                  0,                   0, -0.5*sqrt(42)*m*ħ*ω,                   0,           7.5*m*ħ*ω,                   0, -3.0*sqrt(2)*m*ħ*ω],\n",
       "[                 0,                  0,                  0,                  0,                   0,                   0, -1.0*sqrt(14)*m*ħ*ω,                   0,           8.5*m*ħ*ω,                  0],\n",
       "[                 0,                  0,                  0,                  0,                   0,                   0,                   0,  -3.0*sqrt(2)*m*ħ*ω,                   0,          4.5*m*ħ*ω]])"
      ]
     },
     "execution_count": 19,
     "metadata": {},
     "output_type": "execute_result"
    }
   ],
   "source": [
    "sp.simplify(P**2)"
   ]
  },
  {
   "cell_type": "code",
   "execution_count": 20,
   "id": "7573d659-0f40-4f45-97f9-a671e01c8acf",
   "metadata": {},
   "outputs": [
    {
     "data": {
      "text/latex": [
       "$\\displaystyle \\left[\\begin{matrix}0 & - 0.75 \\sqrt{2} i \\left(m ħ ω\\right)^{\\frac{3}{2}} & 0 & 0.5 \\sqrt{3} i \\left(m ħ ω\\right)^{\\frac{3}{2}} & 0 & 0 & 0 & 0 & 0 & 0\\\\0.75 \\sqrt{2} i \\left(m ħ ω\\right)^{\\frac{3}{2}} & 0 & - 3.0 i \\left(m ħ ω\\right)^{\\frac{3}{2}} & 0 & 1.0 \\sqrt{3} i \\left(m ħ ω\\right)^{\\frac{3}{2}} & 0 & 0 & 0 & 0 & 0\\\\0 & 3.0 i \\left(m ħ ω\\right)^{\\frac{3}{2}} & 0 & - 2.25 \\sqrt{6} i \\left(m ħ ω\\right)^{\\frac{3}{2}} & 0 & 0.5 \\sqrt{30} i \\left(m ħ ω\\right)^{\\frac{3}{2}} & 0 & 0 & 0 & 0\\\\- 0.5 \\sqrt{3} i \\left(m ħ ω\\right)^{\\frac{3}{2}} & 0 & 2.25 \\sqrt{6} i \\left(m ħ ω\\right)^{\\frac{3}{2}} & 0 & - 6.0 \\sqrt{2} i \\left(m ħ ω\\right)^{\\frac{3}{2}} & 0 & 1.0 \\sqrt{15} i \\left(m ħ ω\\right)^{\\frac{3}{2}} & 0 & 0 & 0\\\\0 & - 1.0 \\sqrt{3} i \\left(m ħ ω\\right)^{\\frac{3}{2}} & 0 & 6.0 \\sqrt{2} i \\left(m ħ ω\\right)^{\\frac{3}{2}} & 0 & - 3.75 \\sqrt{10} i \\left(m ħ ω\\right)^{\\frac{3}{2}} & 0 & 0.5 \\sqrt{105} i \\left(m ħ ω\\right)^{\\frac{3}{2}} & 0 & 0\\\\0 & 0 & - 0.5 \\sqrt{30} i \\left(m ħ ω\\right)^{\\frac{3}{2}} & 0 & 3.75 \\sqrt{10} i \\left(m ħ ω\\right)^{\\frac{3}{2}} & 0 & - 9.0 \\sqrt{3} i \\left(m ħ ω\\right)^{\\frac{3}{2}} & 0 & 1.0 \\sqrt{42} i \\left(m ħ ω\\right)^{\\frac{3}{2}} & 0\\\\0 & 0 & 0 & - 1.0 \\sqrt{15} i \\left(m ħ ω\\right)^{\\frac{3}{2}} & 0 & 9.0 \\sqrt{3} i \\left(m ħ ω\\right)^{\\frac{3}{2}} & 0 & - 5.25 \\sqrt{14} i \\left(m ħ ω\\right)^{\\frac{3}{2}} & 0 & 3.0 \\sqrt{7} i \\left(m ħ ω\\right)^{\\frac{3}{2}}\\\\0 & 0 & 0 & 0 & - 0.5 \\sqrt{105} i \\left(m ħ ω\\right)^{\\frac{3}{2}} & 0 & 5.25 \\sqrt{14} i \\left(m ħ ω\\right)^{\\frac{3}{2}} & 0 & - 24.0 i \\left(m ħ ω\\right)^{\\frac{3}{2}} & 0\\\\0 & 0 & 0 & 0 & 0 & - 1.0 \\sqrt{42} i \\left(m ħ ω\\right)^{\\frac{3}{2}} & 0 & 24.0 i \\left(m ħ ω\\right)^{\\frac{3}{2}} & 0 & - 12.75 \\sqrt{2} i \\left(m ħ ω\\right)^{\\frac{3}{2}}\\\\0 & 0 & 0 & 0 & 0 & 0 & - 3.0 \\sqrt{7} i \\left(m ħ ω\\right)^{\\frac{3}{2}} & 0 & 12.75 \\sqrt{2} i \\left(m ħ ω\\right)^{\\frac{3}{2}} & 0\\end{matrix}\\right]$"
      ],
      "text/plain": [
       "Matrix([\n",
       "[                            0, -0.75*sqrt(2)*I*(m*ħ*ω)**(3/2),                              0,   0.5*sqrt(3)*I*(m*ħ*ω)**(3/2),                               0,                               0,                              0,                               0,                              0,                               0],\n",
       "[0.75*sqrt(2)*I*(m*ħ*ω)**(3/2),                              0,          -3.0*I*(m*ħ*ω)**(3/2),                              0,    1.0*sqrt(3)*I*(m*ħ*ω)**(3/2),                               0,                              0,                               0,                              0,                               0],\n",
       "[                            0,           3.0*I*(m*ħ*ω)**(3/2),                              0, -2.25*sqrt(6)*I*(m*ħ*ω)**(3/2),                               0,   0.5*sqrt(30)*I*(m*ħ*ω)**(3/2),                              0,                               0,                              0,                               0],\n",
       "[-0.5*sqrt(3)*I*(m*ħ*ω)**(3/2),                              0,  2.25*sqrt(6)*I*(m*ħ*ω)**(3/2),                              0,   -6.0*sqrt(2)*I*(m*ħ*ω)**(3/2),                               0,  1.0*sqrt(15)*I*(m*ħ*ω)**(3/2),                               0,                              0,                               0],\n",
       "[                            0,  -1.0*sqrt(3)*I*(m*ħ*ω)**(3/2),                              0,   6.0*sqrt(2)*I*(m*ħ*ω)**(3/2),                               0, -3.75*sqrt(10)*I*(m*ħ*ω)**(3/2),                              0,  0.5*sqrt(105)*I*(m*ħ*ω)**(3/2),                              0,                               0],\n",
       "[                            0,                              0, -0.5*sqrt(30)*I*(m*ħ*ω)**(3/2),                              0,  3.75*sqrt(10)*I*(m*ħ*ω)**(3/2),                               0,  -9.0*sqrt(3)*I*(m*ħ*ω)**(3/2),                               0,  1.0*sqrt(42)*I*(m*ħ*ω)**(3/2),                               0],\n",
       "[                            0,                              0,                              0, -1.0*sqrt(15)*I*(m*ħ*ω)**(3/2),                               0,    9.0*sqrt(3)*I*(m*ħ*ω)**(3/2),                              0, -5.25*sqrt(14)*I*(m*ħ*ω)**(3/2),                              0,    3.0*sqrt(7)*I*(m*ħ*ω)**(3/2)],\n",
       "[                            0,                              0,                              0,                              0, -0.5*sqrt(105)*I*(m*ħ*ω)**(3/2),                               0, 5.25*sqrt(14)*I*(m*ħ*ω)**(3/2),                               0,         -24.0*I*(m*ħ*ω)**(3/2),                               0],\n",
       "[                            0,                              0,                              0,                              0,                               0,  -1.0*sqrt(42)*I*(m*ħ*ω)**(3/2),                              0,           24.0*I*(m*ħ*ω)**(3/2),                              0, -12.75*sqrt(2)*I*(m*ħ*ω)**(3/2)],\n",
       "[                            0,                              0,                              0,                              0,                               0,                               0,  -3.0*sqrt(7)*I*(m*ħ*ω)**(3/2),                               0, 12.75*sqrt(2)*I*(m*ħ*ω)**(3/2),                               0]])"
      ]
     },
     "execution_count": 20,
     "metadata": {},
     "output_type": "execute_result"
    }
   ],
   "source": [
    "sp.simplify(P**3)"
   ]
  },
  {
   "cell_type": "code",
   "execution_count": 21,
   "id": "eab9dddc-4748-45ec-9faf-c1e8efc63b0b",
   "metadata": {},
   "outputs": [
    {
     "data": {
      "text/latex": [
       "$\\displaystyle \\left[\\begin{matrix}0.75 m^{2} ħ^{2} ω^{2} & 0 & - 1.5 \\sqrt{2} m^{2} ħ^{2} ω^{2} & 0 & 0.5 \\sqrt{6} m^{2} ħ^{2} ω^{2} & 0 & 0 & 0 & 0 & 0\\\\0 & 3.75 m^{2} ħ^{2} ω^{2} & 0 & - 2.5 \\sqrt{6} m^{2} ħ^{2} ω^{2} & 0 & 0.5 \\sqrt{30} m^{2} ħ^{2} ω^{2} & 0 & 0 & 0 & 0\\\\- 1.5 \\sqrt{2} m^{2} ħ^{2} ω^{2} & 0 & 9.75 m^{2} ħ^{2} ω^{2} & 0 & - 7.0 \\sqrt{3} m^{2} ħ^{2} ω^{2} & 0 & 1.5 \\sqrt{10} m^{2} ħ^{2} ω^{2} & 0 & 0 & 0\\\\0 & - 2.5 \\sqrt{6} m^{2} ħ^{2} ω^{2} & 0 & 18.75 m^{2} ħ^{2} ω^{2} & 0 & - 9.0 \\sqrt{5} m^{2} ħ^{2} ω^{2} & 0 & 0.5 \\sqrt{210} m^{2} ħ^{2} ω^{2} & 0 & 0\\\\0.5 \\sqrt{6} m^{2} ħ^{2} ω^{2} & 0 & - 7.0 \\sqrt{3} m^{2} ħ^{2} ω^{2} & 0 & 30.75 m^{2} ħ^{2} ω^{2} & 0 & - 5.5 \\sqrt{30} m^{2} ħ^{2} ω^{2} & 0 & 1.0 \\sqrt{105} m^{2} ħ^{2} ω^{2} & 0\\\\0 & 0.5 \\sqrt{30} m^{2} ħ^{2} ω^{2} & 0 & - 9.0 \\sqrt{5} m^{2} ħ^{2} ω^{2} & 0 & 45.75 m^{2} ħ^{2} ω^{2} & 0 & - 6.5 \\sqrt{42} m^{2} ħ^{2} ω^{2} & 0 & 3.0 \\sqrt{21} m^{2} ħ^{2} ω^{2}\\\\0 & 0 & 1.5 \\sqrt{10} m^{2} ħ^{2} ω^{2} & 0 & - 5.5 \\sqrt{30} m^{2} ħ^{2} ω^{2} & 0 & 63.75 m^{2} ħ^{2} ω^{2} & 0 & - 15.0 \\sqrt{14} m^{2} ħ^{2} ω^{2} & 0\\\\0 & 0 & 0 & 0.5 \\sqrt{210} m^{2} ħ^{2} ω^{2} & 0 & - 6.5 \\sqrt{42} m^{2} ħ^{2} ω^{2} & 0 & 84.75 m^{2} ħ^{2} ω^{2} & 0 & - 36.0 \\sqrt{2} m^{2} ħ^{2} ω^{2}\\\\0 & 0 & 0 & 0 & 1.0 \\sqrt{105} m^{2} ħ^{2} ω^{2} & 0 & - 15.0 \\sqrt{14} m^{2} ħ^{2} ω^{2} & 0 & 86.25 m^{2} ħ^{2} ω^{2} & 0\\\\0 & 0 & 0 & 0 & 0 & 3.0 \\sqrt{21} m^{2} ħ^{2} ω^{2} & 0 & - 36.0 \\sqrt{2} m^{2} ħ^{2} ω^{2} & 0 & 38.25 m^{2} ħ^{2} ω^{2}\\end{matrix}\\right]$"
      ],
      "text/plain": [
       "Matrix([\n",
       "[        0.75*m**2*ħ**2*ω**2,                           0, -1.5*sqrt(2)*m**2*ħ**2*ω**2,                            0,   0.5*sqrt(6)*m**2*ħ**2*ω**2,                            0,                             0,                            0,                             0,                            0],\n",
       "[                          0,         3.75*m**2*ħ**2*ω**2,                           0,  -2.5*sqrt(6)*m**2*ħ**2*ω**2,                            0,  0.5*sqrt(30)*m**2*ħ**2*ω**2,                             0,                            0,                             0,                            0],\n",
       "[-1.5*sqrt(2)*m**2*ħ**2*ω**2,                           0,         9.75*m**2*ħ**2*ω**2,                            0,  -7.0*sqrt(3)*m**2*ħ**2*ω**2,                            0,   1.5*sqrt(10)*m**2*ħ**2*ω**2,                            0,                             0,                            0],\n",
       "[                          0, -2.5*sqrt(6)*m**2*ħ**2*ω**2,                           0,         18.75*m**2*ħ**2*ω**2,                            0,  -9.0*sqrt(5)*m**2*ħ**2*ω**2,                             0, 0.5*sqrt(210)*m**2*ħ**2*ω**2,                             0,                            0],\n",
       "[ 0.5*sqrt(6)*m**2*ħ**2*ω**2,                           0, -7.0*sqrt(3)*m**2*ħ**2*ω**2,                            0,         30.75*m**2*ħ**2*ω**2,                            0,  -5.5*sqrt(30)*m**2*ħ**2*ω**2,                            0,  1.0*sqrt(105)*m**2*ħ**2*ω**2,                            0],\n",
       "[                          0, 0.5*sqrt(30)*m**2*ħ**2*ω**2,                           0,  -9.0*sqrt(5)*m**2*ħ**2*ω**2,                            0,         45.75*m**2*ħ**2*ω**2,                             0, -6.5*sqrt(42)*m**2*ħ**2*ω**2,                             0,  3.0*sqrt(21)*m**2*ħ**2*ω**2],\n",
       "[                          0,                           0, 1.5*sqrt(10)*m**2*ħ**2*ω**2,                            0, -5.5*sqrt(30)*m**2*ħ**2*ω**2,                            0,          63.75*m**2*ħ**2*ω**2,                            0, -15.0*sqrt(14)*m**2*ħ**2*ω**2,                            0],\n",
       "[                          0,                           0,                           0, 0.5*sqrt(210)*m**2*ħ**2*ω**2,                            0, -6.5*sqrt(42)*m**2*ħ**2*ω**2,                             0,         84.75*m**2*ħ**2*ω**2,                             0, -36.0*sqrt(2)*m**2*ħ**2*ω**2],\n",
       "[                          0,                           0,                           0,                            0, 1.0*sqrt(105)*m**2*ħ**2*ω**2,                            0, -15.0*sqrt(14)*m**2*ħ**2*ω**2,                            0,          86.25*m**2*ħ**2*ω**2,                            0],\n",
       "[                          0,                           0,                           0,                            0,                            0,  3.0*sqrt(21)*m**2*ħ**2*ω**2,                             0, -36.0*sqrt(2)*m**2*ħ**2*ω**2,                             0,         38.25*m**2*ħ**2*ω**2]])"
      ]
     },
     "execution_count": 21,
     "metadata": {},
     "output_type": "execute_result"
    }
   ],
   "source": [
    "sp.simplify(P**4)"
   ]
  },
  {
   "cell_type": "code",
   "execution_count": 22,
   "id": "75c9d37c-9f6c-403a-9c25-3c01b1082fa0",
   "metadata": {},
   "outputs": [
    {
     "data": {
      "text/latex": [
       "$\\displaystyle \\left[\\begin{matrix}0 & - 1.875 \\sqrt{2} i \\left(m ħ ω\\right)^{\\frac{5}{2}} & 0 & 2.5 \\sqrt{3} i \\left(m ħ ω\\right)^{\\frac{5}{2}} & 0 & - 0.5 \\sqrt{15} i \\left(m ħ ω\\right)^{\\frac{5}{2}} & 0 & 0 & 0 & 0\\\\1.875 \\sqrt{2} i \\left(m ħ ω\\right)^{\\frac{5}{2}} & 0 & - 11.25 i \\left(m ħ ω\\right)^{\\frac{5}{2}} & 0 & 7.5 \\sqrt{3} i \\left(m ħ ω\\right)^{\\frac{5}{2}} & 0 & - 1.5 \\sqrt{10} i \\left(m ħ ω\\right)^{\\frac{5}{2}} & 0 & 0 & 0\\\\0 & 11.25 i \\left(m ħ ω\\right)^{\\frac{5}{2}} & 0 & - 11.875 \\sqrt{6} i \\left(m ħ ω\\right)^{\\frac{5}{2}} & 0 & 5.0 \\sqrt{30} i \\left(m ħ ω\\right)^{\\frac{5}{2}} & 0 & - 1.5 \\sqrt{35} i \\left(m ħ ω\\right)^{\\frac{5}{2}} & 0 & 0\\\\- 2.5 \\sqrt{3} i \\left(m ħ ω\\right)^{\\frac{5}{2}} & 0 & 11.875 \\sqrt{6} i \\left(m ħ ω\\right)^{\\frac{5}{2}} & 0 & - 41.25 \\sqrt{2} i \\left(m ħ ω\\right)^{\\frac{5}{2}} & 0 & 12.5 \\sqrt{15} i \\left(m ħ ω\\right)^{\\frac{5}{2}} & 0 & - 1.0 \\sqrt{210} i \\left(m ħ ω\\right)^{\\frac{5}{2}} & 0\\\\0 & - 7.5 \\sqrt{3} i \\left(m ħ ω\\right)^{\\frac{5}{2}} & 0 & 41.25 \\sqrt{2} i \\left(m ħ ω\\right)^{\\frac{5}{2}} & 0 & - 31.875 \\sqrt{10} i \\left(m ħ ω\\right)^{\\frac{5}{2}} & 0 & 7.5 \\sqrt{105} i \\left(m ħ ω\\right)^{\\frac{5}{2}} & 0 & - 1.5 \\sqrt{210} i \\left(m ħ ω\\right)^{\\frac{5}{2}}\\\\0.5 \\sqrt{15} i \\left(m ħ ω\\right)^{\\frac{5}{2}} & 0 & - 5.0 \\sqrt{30} i \\left(m ħ ω\\right)^{\\frac{5}{2}} & 0 & 31.875 \\sqrt{10} i \\left(m ħ ω\\right)^{\\frac{5}{2}} & 0 & - 91.25 \\sqrt{3} i \\left(m ħ ω\\right)^{\\frac{5}{2}} & 0 & 17.5 \\sqrt{42} i \\left(m ħ ω\\right)^{\\frac{5}{2}} & 0\\\\0 & 1.5 \\sqrt{10} i \\left(m ħ ω\\right)^{\\frac{5}{2}} & 0 & - 12.5 \\sqrt{15} i \\left(m ħ ω\\right)^{\\frac{5}{2}} & 0 & 91.25 \\sqrt{3} i \\left(m ħ ω\\right)^{\\frac{5}{2}} & 0 & - 61.875 \\sqrt{14} i \\left(m ħ ω\\right)^{\\frac{5}{2}} & 0 & 45.0 \\sqrt{7} i \\left(m ħ ω\\right)^{\\frac{5}{2}}\\\\0 & 0 & 1.5 \\sqrt{35} i \\left(m ħ ω\\right)^{\\frac{5}{2}} & 0 & - 7.5 \\sqrt{105} i \\left(m ħ ω\\right)^{\\frac{5}{2}} & 0 & 61.875 \\sqrt{14} i \\left(m ħ ω\\right)^{\\frac{5}{2}} & 0 & - 277.5 i \\left(m ħ ω\\right)^{\\frac{5}{2}} & 0\\\\0 & 0 & 0 & 1.0 \\sqrt{210} i \\left(m ħ ω\\right)^{\\frac{5}{2}} & 0 & - 17.5 \\sqrt{42} i \\left(m ħ ω\\right)^{\\frac{5}{2}} & 0 & 277.5 i \\left(m ħ ω\\right)^{\\frac{5}{2}} & 0 & - 129.375 \\sqrt{2} i \\left(m ħ ω\\right)^{\\frac{5}{2}}\\\\0 & 0 & 0 & 0 & 1.5 \\sqrt{210} i \\left(m ħ ω\\right)^{\\frac{5}{2}} & 0 & - 45.0 \\sqrt{7} i \\left(m ħ ω\\right)^{\\frac{5}{2}} & 0 & 129.375 \\sqrt{2} i \\left(m ħ ω\\right)^{\\frac{5}{2}} & 0\\end{matrix}\\right]$"
      ],
      "text/plain": [
       "Matrix([\n",
       "[                             0, -1.875*sqrt(2)*I*(m*ħ*ω)**(5/2),                               0,     2.5*sqrt(3)*I*(m*ħ*ω)**(5/2),                                0,    -0.5*sqrt(15)*I*(m*ħ*ω)**(5/2),                                0,                                 0,                                0,                                 0],\n",
       "[1.875*sqrt(2)*I*(m*ħ*ω)**(5/2),                               0,         -11.25*I*(m*ħ*ω)**(5/2),                                0,     7.5*sqrt(3)*I*(m*ħ*ω)**(5/2),                                 0,   -1.5*sqrt(10)*I*(m*ħ*ω)**(5/2),                                 0,                                0,                                 0],\n",
       "[                             0,          11.25*I*(m*ħ*ω)**(5/2),                               0, -11.875*sqrt(6)*I*(m*ħ*ω)**(5/2),                                0,     5.0*sqrt(30)*I*(m*ħ*ω)**(5/2),                                0,    -1.5*sqrt(35)*I*(m*ħ*ω)**(5/2),                                0,                                 0],\n",
       "[ -2.5*sqrt(3)*I*(m*ħ*ω)**(5/2),                               0, 11.875*sqrt(6)*I*(m*ħ*ω)**(5/2),                                0,  -41.25*sqrt(2)*I*(m*ħ*ω)**(5/2),                                 0,   12.5*sqrt(15)*I*(m*ħ*ω)**(5/2),                                 0,  -1.0*sqrt(210)*I*(m*ħ*ω)**(5/2),                                 0],\n",
       "[                             0,   -7.5*sqrt(3)*I*(m*ħ*ω)**(5/2),                               0,   41.25*sqrt(2)*I*(m*ħ*ω)**(5/2),                                0, -31.875*sqrt(10)*I*(m*ħ*ω)**(5/2),                                0,    7.5*sqrt(105)*I*(m*ħ*ω)**(5/2),                                0,   -1.5*sqrt(210)*I*(m*ħ*ω)**(5/2)],\n",
       "[ 0.5*sqrt(15)*I*(m*ħ*ω)**(5/2),                               0,  -5.0*sqrt(30)*I*(m*ħ*ω)**(5/2),                                0, 31.875*sqrt(10)*I*(m*ħ*ω)**(5/2),                                 0,  -91.25*sqrt(3)*I*(m*ħ*ω)**(5/2),                                 0,   17.5*sqrt(42)*I*(m*ħ*ω)**(5/2),                                 0],\n",
       "[                             0,   1.5*sqrt(10)*I*(m*ħ*ω)**(5/2),                               0,  -12.5*sqrt(15)*I*(m*ħ*ω)**(5/2),                                0,    91.25*sqrt(3)*I*(m*ħ*ω)**(5/2),                                0, -61.875*sqrt(14)*I*(m*ħ*ω)**(5/2),                                0,     45.0*sqrt(7)*I*(m*ħ*ω)**(5/2)],\n",
       "[                             0,                               0,   1.5*sqrt(35)*I*(m*ħ*ω)**(5/2),                                0,  -7.5*sqrt(105)*I*(m*ħ*ω)**(5/2),                                 0, 61.875*sqrt(14)*I*(m*ħ*ω)**(5/2),                                 0,          -277.5*I*(m*ħ*ω)**(5/2),                                 0],\n",
       "[                             0,                               0,                               0,   1.0*sqrt(210)*I*(m*ħ*ω)**(5/2),                                0,   -17.5*sqrt(42)*I*(m*ħ*ω)**(5/2),                                0,            277.5*I*(m*ħ*ω)**(5/2),                                0, -129.375*sqrt(2)*I*(m*ħ*ω)**(5/2)],\n",
       "[                             0,                               0,                               0,                                0,   1.5*sqrt(210)*I*(m*ħ*ω)**(5/2),                                 0,   -45.0*sqrt(7)*I*(m*ħ*ω)**(5/2),                                 0, 129.375*sqrt(2)*I*(m*ħ*ω)**(5/2),                                 0]])"
      ]
     },
     "execution_count": 22,
     "metadata": {},
     "output_type": "execute_result"
    }
   ],
   "source": [
    "sp.simplify(P**5)"
   ]
  }
 ],
 "metadata": {
  "kernelspec": {
   "display_name": "Python [conda env:base] *",
   "language": "python",
   "name": "conda-base-py"
  },
  "language_info": {
   "codemirror_mode": {
    "name": "ipython",
    "version": 3
   },
   "file_extension": ".py",
   "mimetype": "text/x-python",
   "name": "python",
   "nbconvert_exporter": "python",
   "pygments_lexer": "ipython3",
   "version": "3.12.7"
  }
 },
 "nbformat": 4,
 "nbformat_minor": 5
}
