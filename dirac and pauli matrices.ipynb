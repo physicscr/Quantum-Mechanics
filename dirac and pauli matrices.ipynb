{
 "cells": [
  {
   "cell_type": "markdown",
   "id": "d6ae9d78-cecc-4189-8344-5271ebb1ba1f",
   "metadata": {},
   "source": [
    "Considere el espacio de Hilbert $\\mathscr{M}_4(\\mathbb{C})$, con el producto interno estudiado en clase. Además las\n",
    "matrices:\n",
    "\n",
    "$$\n",
    "\\gamma_1=\n",
    "\\begin{pmatrix}\n",
    "0 & 0 & 0 & -i\\\\\n",
    "0 & 0 & -i & 0\\\\\n",
    "0 & i & 0 & 0\\\\\n",
    "i & 0 & 0 & 0\\\\\n",
    "\\end{pmatrix},\n",
    "\\hspace{1cm}\n",
    "\\gamma_2=\n",
    "\\begin{pmatrix}\n",
    "0 & 0 & 0 & -1\\\\\n",
    "0 & 0 & 1 & 0\\\\\n",
    "0 & 1 & 0 & 0\\\\\n",
    "-1 & 0 & 0 & 0\\\\\n",
    "\\end{pmatrix}\n",
    "\\hspace{1cm}\n",
    "\\gamma_3=\n",
    "\\begin{pmatrix}\n",
    "0 & 0 & -i & 0\\\\\n",
    "0 & 0 & 0 & i\\\\\n",
    "i & 0 & 0 & 0\\\\\n",
    "0 & -i & 0 & 0\\\\\n",
    "\\end{pmatrix}\n",
    "\\hspace{1cm}\n",
    "\\gamma_4=\n",
    "\\begin{pmatrix}\n",
    "1 & 0 & 0 & 0\\\\\n",
    "0 & 1 & 0 & 0\\\\\n",
    "0 & 0 & -1 & 0\\\\\n",
    "0 & 0 & 0 & -1\\\\\n",
    "\\end{pmatrix}\n",
    "\\hspace{1cm}\n",
    "\\gamma_5=\n",
    "\\begin{pmatrix}\n",
    "0 & 0 & -1 & 0\\\\\n",
    "0 & 0 & 0 & -1\\\\\n",
    "-1 & 0 & 0 & 0\\\\\n",
    "0 & -1 & 0 & 0\\\\\n",
    "\\end{pmatrix}\n",
    "$$\n",
    "\n",
    "Además considere la definición de las matrices:\n",
    "$$\n",
    "\\sigma_{jk} = \\frac{i}{2}[\\gamma_j,\\gamma_k],\n",
    "$$\n",
    "\n",
    "con $j < k$, $j = 1, 2, 3$ y $k = 2, 3, 4$."
   ]
  },
  {
   "cell_type": "markdown",
   "id": "f0d9852e-f0c5-49ea-8ed5-9b7101e30285",
   "metadata": {},
   "source": [
    "a) Calcule $\\sigma{12}$, $\\sigma{13}$, $\\sigma{14}$, $\\sigma{23}$, $\\sigma{24}$ y $\\sigma{34}$."
   ]
  },
  {
   "cell_type": "markdown",
   "id": "570e2a36-ea9b-4308-990d-10f8ef8f6728",
   "metadata": {},
   "source": [
    "### Solución:"
   ]
  },
  {
   "cell_type": "markdown",
   "id": "cf894250-0075-4c51-b3ce-5ffcfcbe1566",
   "metadata": {},
   "source": [
    "Podemos definir las matrices $\\gamma$ como arreglos para poder manipularlas de manera más sencilla."
   ]
  },
  {
   "cell_type": "code",
   "execution_count": 6,
   "id": "8aca497e-adf6-487f-8a32-14d198f91a49",
   "metadata": {},
   "outputs": [],
   "source": [
    "import numpy as np\n",
    "\n",
    "gamma1 = np.array([[0,0,0,-1j],\n",
    "                   [0,0,-1j,0],\n",
    "                   [0,1j,0,0],\n",
    "                   [1j,0,0,0]])\n",
    "\n",
    "gamma2 = np.array([[0,0,0,-1],\n",
    "                   [0,0,1,0],\n",
    "                   [0,1,0,0],\n",
    "                   [-1,0,0,0]])\n",
    "\n",
    "gamma3 = np.array([[0,0,-1j,0],\n",
    "                   [0,0,0,1j],\n",
    "                   [1j,0,0,0],\n",
    "                   [0,-1j,0,0]])\n",
    "\n",
    "gamma4 = np.array([[1,0,0,0],\n",
    "                   [0,1,0,0],\n",
    "                   [0,0,-1,0],\n",
    "                   [0,0,0,-1]])\n",
    "\n",
    "gamma5 = np.array([[0,0,-1,0],\n",
    "                   [0,0,0,-1],\n",
    "                   [-1,0,0,0],\n",
    "                   [0,-1,0,0]])\n",
    "\n",
    "gammas = [gamma1,gamma2,gamma3,gamma4,gamma5]"
   ]
  },
  {
   "cell_type": "markdown",
   "id": "9fdf2c6c-2c83-44e4-9e7b-1db4ae603d43",
   "metadata": {},
   "source": [
    "Seguidamente, definimos una función para calcular el conmutador de dos matrices; operación que se realiza para obtener las matrices $\\sigma$. Creamos entonces la función ``Conmutador`` para obtener el conmutador de dos matrices ``A`` y ``B``, el cuál está dado por\n",
    "$$\n",
    "[A,B] = AB - BA\n",
    "$$"
   ]
  },
  {
   "cell_type": "code",
   "execution_count": 8,
   "id": "5d03ed4f-d9ce-4cea-825b-8233cd9abb84",
   "metadata": {},
   "outputs": [],
   "source": [
    "def Conmutador(A, B):\n",
    "    return np.dot(A,B) - np.dot(B,A)"
   ]
  },
  {
   "cell_type": "markdown",
   "id": "19b5eadb-7ac9-43ab-b5dd-75d97e4d4a8f",
   "metadata": {},
   "source": [
    "donde ``np.dot`` en $\\mathbf{NumPy}$ realiza el producto escalar o producto matricial dependiendo de si los argumentos son vectores o matrices.\n",
    "\n",
    "Ahora entonces definimos la función ``Sigma`` para calcular las matrices $\\sigma_{jk}$\n",
    "$$\n",
    "\\sigma_{jk} = \\frac{i}{2}[\\gamma_j,\\gamma_k]\n",
    "$$"
   ]
  },
  {
   "cell_type": "code",
   "execution_count": 10,
   "id": "3a73f5ff-394d-44e8-bb53-d463f1f5cf16",
   "metadata": {},
   "outputs": [],
   "source": [
    "def Sigma(j, k, gammas):\n",
    "    return (1j/2) * Conmutador(gammas[j-1], gammas[k-1])"
   ]
  },
  {
   "cell_type": "markdown",
   "id": "5e4131de-ccf7-4bff-897e-bd87e8c8c0d6",
   "metadata": {},
   "source": [
    "Esta función recibe los índices ``j``,  ``k``, así como las matrices \"$\\gamma$\" almacenadas en un arreglo. Por esta razón fue que previamente las guardamos de esa manera. Ahora, simplemente llamamos a la función ``Sigma`` iterativamente con los valores de ``j`` y ``k`` deseados. Poniendoo dos ``for``anidados, tenemos que el rango de ``j`` va de 1 a 3, por lo que el rango de ``k`` va entonces de 2 a 4 y así sucesivamente."
   ]
  },
  {
   "cell_type": "code",
   "execution_count": 12,
   "id": "ae78f9b0-8f25-4352-bc5a-1309872666a9",
   "metadata": {},
   "outputs": [
    {
     "name": "stdout",
     "output_type": "stream",
     "text": [
      "sigma12:\n",
      " [[-1.+0.j  0.+0.j  0.+0.j  0.+0.j]\n",
      " [ 0.+0.j  1.+0.j  0.+0.j  0.+0.j]\n",
      " [ 0.+0.j  0.+0.j -1.+0.j  0.+0.j]\n",
      " [ 0.+0.j  0.+0.j  0.+0.j  1.+0.j]] \n",
      "\n",
      "sigma13:\n",
      " [[ 0.+0.j -0.-1.j  0.+0.j  0.+0.j]\n",
      " [ 0.+1.j  0.+0.j  0.+0.j  0.+0.j]\n",
      " [ 0.+0.j  0.+0.j  0.+0.j -0.-1.j]\n",
      " [ 0.+0.j  0.+0.j  0.+1.j  0.+0.j]] \n",
      "\n",
      "sigma14:\n",
      " [[ 0.+0.j  0.+0.j  0.+0.j -1.+0.j]\n",
      " [ 0.+0.j  0.+0.j -1.+0.j  0.+0.j]\n",
      " [ 0.+0.j -1.+0.j  0.+0.j  0.+0.j]\n",
      " [-1.+0.j  0.+0.j  0.+0.j  0.+0.j]] \n",
      "\n",
      "sigma23:\n",
      " [[ 0.+0.j -1.+0.j  0.+0.j  0.+0.j]\n",
      " [-1.+0.j  0.+0.j  0.+0.j  0.+0.j]\n",
      " [ 0.+0.j  0.+0.j  0.+0.j -1.+0.j]\n",
      " [ 0.+0.j  0.+0.j -1.+0.j  0.+0.j]] \n",
      "\n",
      "sigma24:\n",
      " [[ 0.+0.j  0.+0.j  0.+0.j  0.+1.j]\n",
      " [ 0.+0.j  0.+0.j -0.-1.j  0.+0.j]\n",
      " [ 0.+0.j  0.+1.j  0.+0.j  0.+0.j]\n",
      " [-0.-1.j  0.+0.j  0.+0.j  0.+0.j]] \n",
      "\n",
      "sigma34:\n",
      " [[ 0.+0.j  0.+0.j -1.+0.j  0.+0.j]\n",
      " [ 0.+0.j  0.+0.j  0.+0.j  1.+0.j]\n",
      " [-1.+0.j  0.+0.j  0.+0.j  0.+0.j]\n",
      " [ 0.+0.j  1.+0.j  0.+0.j  0.+0.j]] \n",
      "\n"
     ]
    }
   ],
   "source": [
    "for j in range(1, 4):\n",
    "    for k in range(j+1, 5):\n",
    "        print(f\"sigma{j}{k}:\\n\", Sigma(j, k, gammas), \"\\n\")"
   ]
  },
  {
   "cell_type": "markdown",
   "id": "44cf810d-93e0-4b34-85a3-5462f7cec044",
   "metadata": {},
   "source": [
    "Las matrices $\\sigma$ obtenidas se ven entonces de la siguiente manera\n",
    "$$\n",
    "\\sigma_{12}=\n",
    "\\begin{pmatrix}\n",
    "-1 & 0 & 0 & 0\\\\\n",
    "0 & 1 & 0 & 0\\\\\n",
    "0 & 0 & -1 & 0\\\\\n",
    "0 & 0 & 0 & 1\\\\\n",
    "\\end{pmatrix},\n",
    "\\hspace{1cm}\n",
    "\\sigma_{13}=\n",
    "\\begin{pmatrix}\n",
    "0 & -i & 0 & 0\\\\\n",
    "i & 0 & 0 & 0\\\\\n",
    "0 & 0 & 0 & -i\\\\\n",
    "0 & 0 & i & 0\\\\\n",
    "\\end{pmatrix},\n",
    "\\hspace{1cm}\n",
    "\\sigma_{14}=\n",
    "\\begin{pmatrix}\n",
    "0 & 0 & 0 & -1\\\\\n",
    "0 & 0 & -1 & 0\\\\\n",
    "0 & -1 & 0 & 0\\\\\n",
    "-1 & 0 & 0 & 0\\\\\n",
    "\\end{pmatrix},\n",
    "$$\n",
    "\n",
    "$$\n",
    "\\sigma_{23}=\n",
    "\\begin{pmatrix}\n",
    "0 & -1 & 0 & 0\\\\\n",
    "-1 & 0 & 0 & 0\\\\\n",
    "0 & 0 & 0 & -1\\\\\n",
    "0 & 0 & -1 & 0\\\\\n",
    "\\end{pmatrix},\n",
    "\\hspace{1cm}\n",
    "\\sigma_{24}=\n",
    "\\begin{pmatrix}\n",
    "0 & 0 & 0 & i\\\\\n",
    "0 & 0 & -i & 0\\\\\n",
    "0 & i & 0 & 0\\\\\n",
    "-i & 0 & 0 & 0\\\\\n",
    "\\end{pmatrix},\n",
    "\\hspace{1cm}\n",
    "\\sigma_{34}=\n",
    "\\begin{pmatrix}\n",
    "0 & 0 & -1 & 0\\\\\n",
    "0 & 0 & 0 & 1\\\\\n",
    "-1 & 0 & 0 & 0\\\\\n",
    "0 & 1 & 0 & 0\\\\\n",
    "\\end{pmatrix}\n",
    "$$"
   ]
  },
  {
   "cell_type": "markdown",
   "id": "b4885833-6d17-4f34-bf03-2ecea1963f9b",
   "metadata": {},
   "source": [
    "Considere el conjunto de matrices { $I_4, γ_1, γ_2, γ_3, γ_4, γ_5, γ_5γ_1, γ_5γ_2, γ_5γ_3, γ_5γ_4, σ_{12}, σ_{13}, σ_{14}, σ_{23}, σ_{24}, σ_{34}$ }\n",
    "\n",
    "b) Demuestre que el conjunto anterior es una base de este espacio."
   ]
  },
  {
   "cell_type": "markdown",
   "id": "7e0d835c-1f05-47e0-836b-3a5d5b3e47cb",
   "metadata": {},
   "source": [
    "### Solución:"
   ]
  },
  {
   "cell_type": "markdown",
   "id": "caddabfa-ea70-4275-b937-9934e8777331",
   "metadata": {},
   "source": [
    "Vamos a crear en arreglo llamado ``base`` para almacenar el conjunto. Inicializamos ``base`` con las matrices que ya obtuvimos en la parte anterior: $I_4, γ_1, γ_2, γ_3, γ_4$ y $γ_5$ (usamos ``np.eye(4)`` para agregar la identidad 4x4). Luego añadimos al arreglo las matrices $\\gamma_{5i}$ con $i=1,2,3,4$ realizando el producto matricial entre el cuarto elemento de lo definido como ``gammas`` en la parte superior y las demás matrices $\\gamma$. Para finalizar el conjunto, con ayuda de la función ``Sigma`` calculamos y añadimos $σ_{12}, σ_{13}, σ_{14}, σ_{23}, σ_{24}$ y $σ_{34}$."
   ]
  },
  {
   "cell_type": "code",
   "execution_count": 17,
   "id": "87981a68-deb5-4b2b-b670-6a1aca64d2c1",
   "metadata": {},
   "outputs": [],
   "source": [
    "base = [np.eye(4),gamma1,gamma2,gamma3,gamma4,gamma5]\n",
    "\n",
    "for i in range(4):\n",
    "    base.append(np.dot(gammas[4], gammas[i]))\n",
    "\n",
    "for j in range(1, 4):\n",
    "    for k in range(j+1, 5):\n",
    "        base.append(Sigma(j, k, gammas))"
   ]
  },
  {
   "cell_type": "markdown",
   "id": "7bb6ded4-fb3f-4e54-acfb-950ec2d55ff1",
   "metadata": {},
   "source": [
    "Para que sea una base debe de poder generar cualquier matriz 4x4. Para ello se ocupan 16 matrices ya que es un espacio de dimensión 16. En este caso tenemos 16 matrices por lo que sí generamos el espacio, en parte ya que ahora hay que observar si son linealmente independientes que es lo más importante para poder generar el espacio de matrices 4x4. Para comprobar la independencia lineal, es necesario verificar que los coeficientes $c_i=0$ en el siguiente sistema de ecuaciones\n",
    "\\begin{equation*}\n",
    "\\sum_{i}^{n}c_i\\vec{v}_i=\\vec{0}\n",
    "\\end{equation*}\n",
    "Este sistema debe adaptarse al contexto del espacio de matrices 4×4. Utilizando una función de cálculo simbólico, como la de la librería ``sympy``, podemos determinar si las matrices son linealmente independientes al resolver dicho sistema de ecuaciones."
   ]
  },
  {
   "cell_type": "code",
   "execution_count": 19,
   "id": "c4f38cdd-b18d-4e7b-99fb-05ce1d92d3cb",
   "metadata": {},
   "outputs": [],
   "source": [
    "import sympy as sp\n",
    "\n",
    "def independencia_lineal(matrices):\n",
    "    num_matrices = len(matrices)\n",
    "    escalares = sp.symbols(f'a:{num_matrices}') #Crea una lista de símbolos, \n",
    "    #que representan los coeficientes escalares de las combinaciones lineales de las matrices.\n",
    "\n",
    "    combinacion = sp.zeros(*matrices[0].shape) #Inicializa una matriz de ceros con las mismas dimensiones que las matrices de entrada.\n",
    "\n",
    "    for i in range(num_matrices):\n",
    "        combinacion += escalares[i] * sp.Matrix(matrices[i])\n",
    "\n",
    "    ecuaciones = []  #Genera una lista de ecuaciones a partir de los elementos de la matriz resultante de la combinación lineal. \n",
    "    #Cada elemento de la matriz se agrega como una ecuación que debe ser igual a cero.\n",
    "    for fila in combinacion.tolist():\n",
    "        for elemento in fila:\n",
    "            ecuaciones.append(elemento)\n",
    "\n",
    "    #Solución sistema de ecuaciones, que devuelve los valores de los escalares \n",
    "    #que hacen que la combinación lineal sea igual a la matriz nula\n",
    "    solucion = sp.solve(ecuaciones, escalares)\n",
    "\n",
    "    if solucion and all(int(solucion.get(escalar, 0)) == 0 for escalar in escalares):\n",
    "        print(\"Las matrices son linealmente independientes\")\n",
    "\n",
    "    else:\n",
    "        print(\"Las matrices no son linealmente independientes\")"
   ]
  },
  {
   "cell_type": "markdown",
   "id": "edaccf03-305b-4482-b482-230cccba764c",
   "metadata": {},
   "source": [
    "Si la solución del sistema no está vacía y todos los valores de los escalares son cero, significa que las matrices son linealmente independientes, porque solo la combinación trivial (todos los escalares cero) puede generar la matriz nula. Si alguna de las soluciones es distinta de cero, las matrices no son linealmente independientes.\n",
    "\n",
    "Por último solo nos queda llamar la función ``independencia_lineal`` pasandole el conjunto ``base``."
   ]
  },
  {
   "cell_type": "code",
   "execution_count": 21,
   "id": "02027a94-f4d9-4eb5-85aa-092d09e40639",
   "metadata": {},
   "outputs": [
    {
     "name": "stdout",
     "output_type": "stream",
     "text": [
      "Las matrices son linealmente independientes\n"
     ]
    }
   ],
   "source": [
    "independencia_lineal(base)"
   ]
  },
  {
   "cell_type": "markdown",
   "id": "c856ba5a-b56d-4b8c-8ebe-ddbc1d62c463",
   "metadata": {},
   "source": [
    "c) ¿Es una base ortogonal? ¿Ortonormal?"
   ]
  },
  {
   "cell_type": "markdown",
   "id": "0beced48-18b5-4a04-bdce-487998d5f699",
   "metadata": {},
   "source": [
    "### Solución:"
   ]
  },
  {
   "cell_type": "markdown",
   "id": "241f8a6f-a995-403b-9fa4-1e2c1aed5a13",
   "metadata": {},
   "source": [
    "Para verificar que el conjunto es una base ortogonal, debemos calcular que el producto interno entre distintos elementos del conjunto es $\\mathbf{0}$ y que el producto interno de un elemento consigo mismo es finito y diferente de $\\mathbf{0}$.\n",
    "\n",
    "Para esto utilizamos entonces la definición de producto interno entre matrices\n",
    "$$\n",
    "\\langle A|B\\rangle = Tr(A^\\dagger B)\n",
    "$$"
   ]
  },
  {
   "cell_type": "code",
   "execution_count": 25,
   "id": "6d447b97-d90f-4d6b-8ad3-6d5e0e604731",
   "metadata": {},
   "outputs": [],
   "source": [
    "def ProductoInterno(A, B):\n",
    "    return np.trace(np.dot(np.transpose(np.conjugate(A)), B))"
   ]
  },
  {
   "cell_type": "markdown",
   "id": "b0041f73-a898-4b9f-9f83-451fc7576999",
   "metadata": {},
   "source": [
    "Ahora definimos la función ``Comprobar`` para verificar si el conjunto de matrices forma una base. Vamos a recorrer el conjunto completo utilizandos dos índices y realizamos el producto interno entre los elementos correspondientes a ``i`` y ``j``. Esto permite comparar cada par de matrices entre sí, incluyendo la comparación de un elemento consigo mismo. Si ``i=j`` y el producto interno es $\\mathbf{0}$, significa que el conjunto $\\textbf{no}$ es una base, puesto que debe dar distinto de 0. Por otro lado, si ``i!=j`` y el producto interno es diferente de $\\mathbf{0}$, también significa que el conjunto $\\textbf{no}$ es una base, puesto que son elementos distintos del conjunto. Si, al recorrer todo el conjunto, ninguno de estos casos ocurre, podemos concluir que el conjunto $\\textbf{si}$ es una base."
   ]
  },
  {
   "cell_type": "code",
   "execution_count": 27,
   "id": "b2f25913-efee-4794-9e1c-8858ea21dc4b",
   "metadata": {},
   "outputs": [],
   "source": [
    "def Comprobar(base):\n",
    "    for i in range(len(base)):\n",
    "        for j in range(len(base)):\n",
    "            resultado = ProductoInterno(base[i], base[j])\n",
    "\n",
    "            if i == j and resultado == 0:\n",
    "                print(f\"\\n No corresponde a una base por a{i}{j}\")\n",
    "                break\n",
    "            elif i != j and resultado != 0:\n",
    "                print(f\"\\n No corresponde a una base por b{i}{j}\")\n",
    "                break\n",
    "\n",
    "    print(\"Sí corresponde a una base ortogonal\")"
   ]
  },
  {
   "cell_type": "markdown",
   "id": "76b09273-99d2-44c0-b58e-ad4f204b8db3",
   "metadata": {},
   "source": [
    "Por último solo nos queda llamar la función ``Comprobar`` pasandole el conjunto ``base``."
   ]
  },
  {
   "cell_type": "code",
   "execution_count": 29,
   "id": "583166c8-4705-4c67-b149-f77c7582231a",
   "metadata": {},
   "outputs": [
    {
     "name": "stdout",
     "output_type": "stream",
     "text": [
      "Sí corresponde a una base ortogonal\n"
     ]
    }
   ],
   "source": [
    "Comprobar(base)"
   ]
  },
  {
   "cell_type": "markdown",
   "id": "20b728c8-4af4-44ff-b5dc-e8c54138f65f",
   "metadata": {},
   "source": [
    "Entonces damos por un hecho que el conjuntos de matrices si representa una base ortogonal."
   ]
  },
  {
   "cell_type": "markdown",
   "id": "a1781b67-07a7-4a1a-9a21-05d9b831e942",
   "metadata": {},
   "source": [
    "Para determinar ahora si un conjunto es solo ortogonal o también ortonormal, debemos proceder a calcular la norma, lo cual corresponde a la raíz cuadrada del producto interno de un mismo elemento de la base consigo mismo:\n",
    "$$\n",
    "|A| = \\sqrt{Tr(A^\\dagger A)}\n",
    "$$\n",
    "Podemos modificar entonces la función ``Comprobar`` para que además de indicarnos si el conjunto es una base, nos calcule la norma cuando ``i=j`` (mismo elemento del conjunto) y así verificar la norma para todos los elementos."
   ]
  },
  {
   "cell_type": "code",
   "execution_count": 32,
   "id": "f138c4ba-fd06-4325-adc4-aba4368588e3",
   "metadata": {},
   "outputs": [],
   "source": [
    "def Comprobar_Norma(base):\n",
    "    for i in range(len(base)):\n",
    "        for j in range(len(base)):\n",
    "            resultado = ProductoInterno(base[i], base[j])\n",
    "\n",
    "            if i == j and resultado == 0:\n",
    "                print(f\"\\n No corresponde a una base por a{i}{j}\")\n",
    "                break\n",
    "            elif i != j and resultado != 0:\n",
    "                print(f\"\\n No corresponde a una base por b{i}{j}\")\n",
    "                break\n",
    "            elif i == j:\n",
    "                print(np.sqrt(resultado))\n",
    "\n",
    "    print(\"Sí corresponde a una base\")"
   ]
  },
  {
   "cell_type": "code",
   "execution_count": 33,
   "id": "a9c53827-3a75-4846-b692-97b72e8d3d21",
   "metadata": {},
   "outputs": [
    {
     "name": "stdout",
     "output_type": "stream",
     "text": [
      "2.0\n",
      "(2+0j)\n",
      "2.0\n",
      "(2+0j)\n",
      "2.0\n",
      "2.0\n",
      "(2+0j)\n",
      "2.0\n",
      "(2+0j)\n",
      "2.0\n",
      "(2+0j)\n",
      "(2+0j)\n",
      "(2+0j)\n",
      "(2+0j)\n",
      "(2+0j)\n",
      "(2+0j)\n",
      "Sí corresponde a una base\n"
     ]
    }
   ],
   "source": [
    "Comprobar_Norma(base)"
   ]
  },
  {
   "cell_type": "markdown",
   "id": "d5cff6b5-b379-4858-b902-b30cedd31c2b",
   "metadata": {},
   "source": [
    "Podemos notar claramente que la norma es $2$ en todos los casos. Para que la base sea orto$\\textbf{normal}$, la norma debe ser $1$, por lo que concluimos que la base es ortogonal y no ortonormal."
   ]
  }
 ],
 "metadata": {
  "kernelspec": {
   "display_name": "Python [conda env:base] *",
   "language": "python",
   "name": "conda-base-py"
  },
  "language_info": {
   "codemirror_mode": {
    "name": "ipython",
    "version": 3
   },
   "file_extension": ".py",
   "mimetype": "text/x-python",
   "name": "python",
   "nbconvert_exporter": "python",
   "pygments_lexer": "ipython3",
   "version": "3.12.7"
  }
 },
 "nbformat": 4,
 "nbformat_minor": 5
}
